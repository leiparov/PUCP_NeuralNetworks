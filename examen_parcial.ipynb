{
 "cells": [
  {
   "cell_type": "markdown",
   "metadata": {
    "_uuid": "e6ffe0a1b3225807863418f75464248beaa58374"
   },
   "source": [
    "# Examen Parcial:\n",
    "\n",
    "Para ejecutar el código: crear un kernel en la competencia de kaggle (https://www.kaggle.com/c/facial-keypoints-detection) y partir de este notebook. Una vez terminado, se debe descargar el notebook final y subirlo en paideia.\n",
    "\n",
    "\n",
    "## Descripcion de la tarea\n",
    "\n",
    "El objetivo de esta tarea es predecir las posiciones de los puntos clave en imágenes de rostros.\n",
    "\n",
    "Las imágenes de entrada son de 96x96 píxeles y en escala de grises (descritas con números enteros entre 0 y 255).\n",
    "\n",
    "Cada punto clave se especifica mediante un par de valores reales (x, y) en el espacio de los índices de píxeles. Hay 15 puntos clave, que representan los siguientes elementos de la cara:\n",
    "\n",
    "    left_eye_center, right_eye_center, left_eye_inner_corner, left_eye_outer_corner, right_eye_inner_corner, right_eye_outer_corner, left_eyebrow_inner_end, left_eyebrow_outer_end, right_eyebrow_inner_end, right_eyebrow_outer_end, nose_tip, mouth_left_corner, mouth_right_corner, mouth_center_top_lip, mouth_center_bottom_lip\n",
    "\n",
    "De modo que se debe entrenar una red neuronal que tome como input la imagen en escala de grises y de como output 30 números (las coordenadas x,y de los 15 puntos claves).\n",
    "\n",
    "Al compilar el modelo, especificar como función de pérdida el mean squared error **(mse)** y como métrica el mean absolute error **(mae)**. Por ejemplo:\n",
    "``` python\n",
    "model.compile(Adam(lr), loss='mse', metrics=['mae'])\n",
    "```\n",
    "\n",
    "## Calificación\n",
    "\n",
    "- Normalizar las imágenes (1 pt)\n",
    "- Definir correctamente la red neuronal (4 pts)\n",
    "- Entrenar la red neuronal (2 pts)\n",
    "  - mae entre 10 y 15 (3 pts)\n",
    "  - mae entre 8 y 11 (5 pts)\n",
    "  - mae entre 5 y 8 (7 pts)\n",
    "  - mae menor o igual a 4.0 (9 pts)\n",
    "- Mostrar 5 resultados aleatorios del set de validación (1 pt)\n",
    "- Mostrar las 5 mejores predicciones del set de validación (1 pt)\n",
    "- Mostrar las 5 peores predicciones del set de validación (1 pt)\n",
    "\n",
    "## Recomendaciones\n",
    "\n",
    "Activar el uso de GPU en el kernel de kaggle.\n",
    "\n",
    "Dentro del kernel de kaggle, los botones para bajar y subir kernels, se encuentran en la parte superior de la pagina, a la izquierda del boton commit.\n",
    "\n",
    "![](https://i.imgur.com/m4inkg3.png)"
   ]
  },
  {
   "cell_type": "markdown",
   "metadata": {
    "_uuid": "87ec9f2d8fc00145bd25dec013c4702e52ca6e61"
   },
   "source": [
    "# Lectura de datos"
   ]
  },
  {
   "cell_type": "code",
   "execution_count": 1,
   "metadata": {
    "_uuid": "2f5c78d687321190a1f18d41353df563c5d4598f",
    "collapsed": true
   },
   "outputs": [],
   "source": [
    "import math\n",
    "import numpy as np\n",
    "import pandas as pd\n",
    "import matplotlib.pyplot as plt\n",
    "%matplotlib inline"
   ]
  },
  {
   "cell_type": "code",
   "execution_count": 2,
   "metadata": {
    "_uuid": "3c05f73b59fdf82bad23d023847ca167890dc07c"
   },
   "outputs": [
    {
     "data": {
      "text/plain": [
       "(2140, 31)"
      ]
     },
     "execution_count": 2,
     "metadata": {},
     "output_type": "execute_result"
    }
   ],
   "source": [
    "df = pd.read_csv('../input/training/training.csv')\n",
    "df.dropna(inplace=True)\n",
    "df.shape"
   ]
  },
  {
   "cell_type": "code",
   "execution_count": 3,
   "metadata": {
    "_uuid": "93fe18a573babd8366025e74334bd57bb00918a7"
   },
   "outputs": [
    {
     "name": "stderr",
     "output_type": "stream",
     "text": [
      "[Parallel(n_jobs=10)]: Using backend ThreadingBackend with 10 concurrent workers.\n",
      "[Parallel(n_jobs=10)]: Done  30 tasks      | elapsed:    0.2s\n",
      "[Parallel(n_jobs=10)]: Done 180 tasks      | elapsed:    1.0s\n",
      "[Parallel(n_jobs=10)]: Done 430 tasks      | elapsed:    2.4s\n",
      "[Parallel(n_jobs=10)]: Done 780 tasks      | elapsed:    3.7s\n",
      "[Parallel(n_jobs=10)]: Done 1230 tasks      | elapsed:    5.0s\n",
      "[Parallel(n_jobs=10)]: Done 1780 tasks      | elapsed:    6.7s\n",
      "[Parallel(n_jobs=10)]: Done 2140 out of 2140 | elapsed:    7.7s finished\n"
     ]
    },
    {
     "data": {
      "text/plain": [
       "(2140, 96, 96, 1)"
      ]
     },
     "execution_count": 3,
     "metadata": {},
     "output_type": "execute_result"
    }
   ],
   "source": [
    "from joblib import Parallel, delayed\n",
    "\n",
    "def format_img(x):\n",
    "    return np.asarray([int(e) for e in x.split(' ')], dtype=np.uint8).reshape(96,96)\n",
    "\n",
    "with Parallel(n_jobs=10, verbose=1, prefer='threads') as ex:\n",
    "    x = ex(delayed(format_img)(e) for e in df.Image)\n",
    "    \n",
    "x = np.stack(x)[..., None]\n",
    "x.shape"
   ]
  },
  {
   "cell_type": "code",
   "execution_count": 4,
   "metadata": {
    "_uuid": "43420894cb6644857492717aa31f38466030b615"
   },
   "outputs": [
    {
     "data": {
      "text/plain": [
       "(2140, 30)"
      ]
     },
     "execution_count": 4,
     "metadata": {},
     "output_type": "execute_result"
    }
   ],
   "source": [
    "y = df.iloc[:, :-1].values\n",
    "y.shape"
   ]
  },
  {
   "cell_type": "code",
   "execution_count": 5,
   "metadata": {
    "_uuid": "0c283496d535887dbabbd562492e7a894a73f997"
   },
   "outputs": [
    {
     "data": {
      "image/png": "[encoded data removed]",
      "text/plain": [
       "<Figure size 432x288 with 1 Axes>"
      ]
     },
     "metadata": {
      "needs_background": "light"
     },
     "output_type": "display_data"
    }
   ],
   "source": [
    "def show(x, y=None):\n",
    "    plt.imshow(x[..., 0], 'gray')\n",
    "    if y is not None:\n",
    "        points = np.vstack(np.split(y, 15)).T\n",
    "        plt.plot(points[0], points[1], 'o', color='red')\n",
    "        \n",
    "    plt.axis('off')\n",
    "\n",
    "sample_idx = np.random.choice(len(x))    \n",
    "show(x[sample_idx], y[sample_idx])"
   ]
  },
  {
   "cell_type": "markdown",
   "metadata": {
    "_uuid": "e9220e4260519d84d6ab614b100536e6026317d0"
   },
   "source": [
    "# Train validation split"
   ]
  },
  {
   "cell_type": "code",
   "execution_count": 6,
   "metadata": {
    "_uuid": "0baf25763093d7cb88732f19c28a2bb386b7089d"
   },
   "outputs": [
    {
     "data": {
      "text/plain": [
       "((1712, 96, 96, 1), (428, 96, 96, 1))"
      ]
     },
     "execution_count": 6,
     "metadata": {},
     "output_type": "execute_result"
    }
   ],
   "source": [
    "from sklearn.model_selection import train_test_split\n",
    "\n",
    "x_train, x_val, y_train, y_val = train_test_split(x, y, test_size=0.2, random_state=42)\n",
    "x_train.shape, x_val.shape"
   ]
  },
  {
   "cell_type": "code",
   "execution_count": null,
   "metadata": {
    "_uuid": "aeea8a4726181a5d5aaa9bd83504322279efd298",
    "collapsed": true
   },
   "outputs": [],
   "source": [
    "# Normalizar las imágenes (1pt)\n"
   ]
  },
  {
   "cell_type": "markdown",
   "metadata": {
    "_uuid": "f4e397a9c47d78d68a591e42e06b6532feda7f35"
   },
   "source": [
    "# Model"
   ]
  },
  {
   "cell_type": "code",
   "execution_count": null,
   "metadata": {
    "_uuid": "e794bdc34cf97f1bf08afd8546f20705e3115e92",
    "collapsed": true
   },
   "outputs": [],
   "source": [
    "# Definir correctamente la red neuronal (5 pts)\n",
    "\n"
   ]
  },
  {
   "cell_type": "code",
   "execution_count": null,
   "metadata": {
    "_uuid": "5900afe6a0d236cbf3fc404cc30ec7de5752e533",
    "collapsed": true
   },
   "outputs": [],
   "source": [
    "# Entrenar la red neuronal (2 pts)\n"
   ]
  },
  {
   "cell_type": "code",
   "execution_count": null,
   "metadata": {
    "_uuid": "e09e0af94fc007ba7de1b241c487c963d6d6e335",
    "collapsed": true
   },
   "outputs": [],
   "source": [
    "# Resultado del entrenamiento\n",
    "# - mae entre 10 y 15 (3 pts)\n",
    "# - mae entre 8 y 11 (5 pts)\n",
    "# - mae entre 5 y 8 (7 pts)\n",
    "# - mae menor o igual a 4.0 (9 pts)\n",
    "\n",
    "print(f'MAE final: {model.evaluate(x_val, y_val)[1]}')"
   ]
  },
  {
   "cell_type": "code",
   "execution_count": null,
   "metadata": {
    "_uuid": "67ef37ec37d1c2b0aa784337b142284b7e2d5953",
    "collapsed": true
   },
   "outputs": [],
   "source": [
    "# Ver la perdida en el entrenamiento\n",
    "def show_results(*logs):\n",
    "    trn_loss, val_loss, trn_acc, val_acc = [], [], [], []\n",
    "    \n",
    "    for log in logs:\n",
    "        trn_loss += log.history['loss']\n",
    "        val_loss += log.history['val_loss']\n",
    "    \n",
    "    fig, ax = plt.subplots(figsize=(8,4))\n",
    "    ax.plot(trn_loss, label='train')\n",
    "    ax.plot(val_loss, label='validation')\n",
    "    ax.set_xlabel('epoch'); ax.set_ylabel('loss')\n",
    "    ax.legend()\n",
    "    \n",
    "show_results(log)"
   ]
  },
  {
   "cell_type": "markdown",
   "metadata": {
    "_uuid": "cb08561250cd9c0202fafad2d7e8677d22832560"
   },
   "source": [
    "# Resultados"
   ]
  },
  {
   "cell_type": "code",
   "execution_count": null,
   "metadata": {
    "_uuid": "196508d8c81e610aedc69c17a46bd81cf4bd951a",
    "collapsed": true
   },
   "outputs": [],
   "source": [
    "# Función para visualizar un resultado\n",
    "def show_pred(x, y_real, y_pred):\n",
    "    fig, axes = plt.subplots(1, 2, figsize=(10,5))\n",
    "    for ax in axes:\n",
    "        ax.imshow(x[0, ..., 0], 'gray')\n",
    "        ax.axis('off')\n",
    "        \n",
    "    points_real = np.vstack(np.split(y_real[0], 15)).T\n",
    "    points_pred = np.vstack(np.split(y_pred[0], 15)).T\n",
    "    axes[0].plot(points_pred[0], points_pred[1], 'o', color='red')\n",
    "    axes[0].set_title('Predictions', size=16)\n",
    "    axes[1].plot(points_real[0], points_real[1], 'o', color='green')\n",
    "    axes[1].plot(points_pred[0], points_pred[1], 'o', color='red', alpha=0.5)\n",
    "    axes[1].set_title('Real', size=16)"
   ]
  },
  {
   "cell_type": "markdown",
   "metadata": {
    "_uuid": "e09fad1f1066358446b11df676404b7487b4d912"
   },
   "source": [
    "Ej:\n",
    "``` python\n",
    "sample_x = x_val[0, None]\n",
    "sample_y = y_val[0, None]\n",
    "pred = model.predict(sample_x)\n",
    "show_pred(sample_x, sample_y, pred)\n",
    "```"
   ]
  },
  {
   "cell_type": "code",
   "execution_count": null,
   "metadata": {
    "_uuid": "51de296277b79bdf5a16b33f13675dc194a30df1",
    "collapsed": true
   },
   "outputs": [],
   "source": [
    "# Mostrar 5 resultados aleatorios del set de validación (1 pt)\n"
   ]
  },
  {
   "cell_type": "code",
   "execution_count": null,
   "metadata": {
    "_uuid": "51de296277b79bdf5a16b33f13675dc194a30df1",
    "collapsed": true
   },
   "outputs": [],
   "source": [
    "# Mostrar las 5 mejores predicciones del set de validación (1 pt)\n"
   ]
  },
  {
   "cell_type": "code",
   "execution_count": null,
   "metadata": {
    "_uuid": "51de296277b79bdf5a16b33f13675dc194a30df1",
    "collapsed": true
   },
   "outputs": [],
   "source": [
    "# Mostrar las 5 peores predicciones del set de validación (1 pt)\n"
   ]
  }
 ],
 "metadata": {
  "kernelspec": {
   "display_name": "Python 3",
   "language": "python",
   "name": "python3"
  },
  "language_info": {
   "codemirror_mode": {
    "name": "ipython",
    "version": 3
   },
   "file_extension": ".py",
   "mimetype": "text/x-python",
   "name": "python",
   "nbconvert_exporter": "python",
   "pygments_lexer": "ipython3",
   "version": "3.5.4"
  },
  "toc": {
   "base_numbering": 1,
   "nav_menu": {},
   "number_sections": true,
   "sideBar": true,
   "skip_h1_title": false,
   "title_cell": "Table of Contents",
   "title_sidebar": "Contents",
   "toc_cell": false,
   "toc_position": {},
   "toc_section_display": true,
   "toc_window_display": false
  }
 },
 "nbformat": 4,
 "nbformat_minor": 1
}
