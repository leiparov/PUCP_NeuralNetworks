{
  "nbformat": 4,
  "nbformat_minor": 0,
  "metadata": {
    "colab": {
      "name": "MNIST_conv_example.ipynb",
      "version": "0.3.2",
      "provenance": [],
      "collapsed_sections": [
        "aXed4alCfe6I"
      ]
    },
    "kernelspec": {
      "name": "python3",
      "display_name": "Python 3"
    },
    "accelerator": "GPU"
  },
  "cells": [
    {
      "metadata": {
        "id": "8pu_4WVVQO5n",
        "colab_type": "code",
        "colab": {
          "base_uri": "https://localhost:8080/",
          "height": 35
        },
        "outputId": "3ed529ee-088e-41ad-f71b-335c7a72fc66"
      },
      "cell_type": "code",
      "source": [
        "import math\n",
        "import numpy as np\n",
        "import pandas as pd\n",
        "import matplotlib.pyplot as plt\n",
        "from keras.datasets import mnist\n",
        "%matplotlib inline"
      ],
      "execution_count": 1,
      "outputs": [
        {
          "output_type": "stream",
          "text": [
            "Using TensorFlow backend.\n"
          ],
          "name": "stderr"
        }
      ]
    },
    {
      "metadata": {
        "id": "bsHagm5IQVwY",
        "colab_type": "code",
        "colab": {
          "base_uri": "https://localhost:8080/",
          "height": 125
        },
        "outputId": "ffe3989f-0d18-42f9-e8c7-e5a09ae661d9"
      },
      "cell_type": "code",
      "source": [
        "# Load data\n",
        "(x_train, y_train), (x_test, y_test) = mnist.load_data()\n",
        "mean = x_train.mean()\n",
        "std = x_train.std()\n",
        "x_train = (x_train - mean) / std\n",
        "x_test = (x_test - mean) / std\n",
        "print(f'Train -> x: {x_train.shape}')\n",
        "print(f'         y: {y_train.shape}')\n",
        "print(f'Test -> x: {x_test.shape}')\n",
        "print(f'        y: {y_test.shape}')"
      ],
      "execution_count": 2,
      "outputs": [
        {
          "output_type": "stream",
          "text": [
            "Downloading data from https://s3.amazonaws.com/img-datasets/mnist.npz\n",
            "11493376/11490434 [==============================] - 6s 1us/step\n",
            "Train -> x: (60000, 28, 28)\n",
            "         y: (60000,)\n",
            "Test -> x: (10000, 28, 28)\n",
            "        y: (10000,)\n"
          ],
          "name": "stdout"
        }
      ]
    },
    {
      "metadata": {
        "id": "4qvJiXqeQV6E",
        "colab_type": "code",
        "colab": {
          "base_uri": "https://localhost:8080/",
          "height": 265
        },
        "outputId": "61fd7286-d9ab-4939-af10-e2d5a88a285a"
      },
      "cell_type": "code",
      "source": [
        "plt.imshow(x_train[0], 'gray');"
      ],
      "execution_count": 3,
      "outputs": [
        {
          "output_type": "display_data",
          "data": {
            "image/png": "[encoded data removed]",
            "text/plain": [
              "<matplotlib.figure.Figure at 0x7fb9f2f6f550>"
            ]
          },
          "metadata": {
            "tags": []
          }
        }
      ]
    },
    {
      "metadata": {
        "id": "dOVcHYxtRv2C",
        "colab_type": "code",
        "colab": {
          "base_uri": "https://localhost:8080/",
          "height": 35
        },
        "outputId": "72483cea-fc2f-47fe-e07f-90f7b0779657"
      },
      "cell_type": "code",
      "source": [
        "# Ajustamos las dimensiones de las imágenes\n",
        "x_train = x_train[..., None]\n",
        "x_test = x_test[..., None]\n",
        "x_train.shape, x_test.shape"
      ],
      "execution_count": 4,
      "outputs": [
        {
          "output_type": "execute_result",
          "data": {
            "text/plain": [
              "((60000, 28, 28, 1), (10000, 28, 28, 1))"
            ]
          },
          "metadata": {
            "tags": []
          },
          "execution_count": 4
        }
      ]
    },
    {
      "metadata": {
        "id": "_ZLMRjsARv4y",
        "colab_type": "code",
        "colab": {
          "base_uri": "https://localhost:8080/",
          "height": 431
        },
        "outputId": "fbe0231c-be42-4301-9e45-e2fac3ca98ea"
      },
      "cell_type": "code",
      "source": [
        "# Model\n",
        "from keras.models import Sequential\n",
        "from keras.layers import Dense, Conv2D, MaxPool2D, Flatten\n",
        "from keras.optimizers import SGD\n",
        "\n",
        "lr = 0.01\n",
        "bs = 256\n",
        "nb = math.ceil(len(x_train)/bs) # Nro de batches\n",
        "\n",
        "model = Sequential([\n",
        "    Conv2D(32, 3, activation='relu', padding='same', input_shape=(28,28,1)),\n",
        "    MaxPool2D(),\n",
        "    Conv2D(64, 3, activation='relu', padding='same'),\n",
        "    MaxPool2D(),\n",
        "    Conv2D(128, 3, activation='relu', padding='same'),\n",
        "    MaxPool2D(),\n",
        "    Flatten(),\n",
        "    Dense(10, activation='softmax')\n",
        "])\n",
        "\n",
        "model.compile(SGD(lr), loss='sparse_categorical_crossentropy', metrics=['accuracy'])\n",
        "model.summary()"
      ],
      "execution_count": 118,
      "outputs": [
        {
          "output_type": "stream",
          "text": [
            "_________________________________________________________________\n",
            "Layer (type)                 Output Shape              Param #   \n",
            "=================================================================\n",
            "conv2d_124 (Conv2D)          (None, 28, 28, 32)        320       \n",
            "_________________________________________________________________\n",
            "max_pooling2d_13 (MaxPooling (None, 14, 14, 32)        0         \n",
            "_________________________________________________________________\n",
            "conv2d_125 (Conv2D)          (None, 14, 14, 64)        18496     \n",
            "_________________________________________________________________\n",
            "max_pooling2d_14 (MaxPooling (None, 7, 7, 64)          0         \n",
            "_________________________________________________________________\n",
            "conv2d_126 (Conv2D)          (None, 7, 7, 128)         73856     \n",
            "_________________________________________________________________\n",
            "max_pooling2d_15 (MaxPooling (None, 3, 3, 128)         0         \n",
            "_________________________________________________________________\n",
            "flatten_17 (Flatten)         (None, 1152)              0         \n",
            "_________________________________________________________________\n",
            "dense_19 (Dense)             (None, 10)                11530     \n",
            "=================================================================\n",
            "Total params: 104,202\n",
            "Trainable params: 104,202\n",
            "Non-trainable params: 0\n",
            "_________________________________________________________________\n"
          ],
          "name": "stdout"
        }
      ]
    },
    {
      "metadata": {
        "id": "-dk_T2PKbFU7",
        "colab_type": "code",
        "colab": {
          "base_uri": "https://localhost:8080/",
          "height": 251
        },
        "outputId": "a566ff1b-2c43-407a-a510-a1c6f4c9efa0"
      },
      "cell_type": "code",
      "source": [
        "# Trainning\n",
        "log = model.fit(x_train, y_train, batch_size=bs, epochs=6, validation_data=[x_test, y_test])"
      ],
      "execution_count": 119,
      "outputs": [
        {
          "output_type": "stream",
          "text": [
            "Train on 60000 samples, validate on 10000 samples\n",
            "Epoch 1/6\n",
            "60000/60000 [==============================] - 7s 123us/step - loss: 1.1607 - acc: 0.6989 - val_loss: 0.4630 - val_acc: 0.8361\n",
            "Epoch 2/6\n",
            "60000/60000 [==============================] - 5s 84us/step - loss: 0.2784 - acc: 0.9186 - val_loss: 0.2192 - val_acc: 0.9359\n",
            "Epoch 3/6\n",
            "60000/60000 [==============================] - 5s 84us/step - loss: 0.1818 - acc: 0.9463 - val_loss: 0.1567 - val_acc: 0.9496\n",
            "Epoch 4/6\n",
            "60000/60000 [==============================] - 5s 84us/step - loss: 0.1399 - acc: 0.9584 - val_loss: 0.1124 - val_acc: 0.9667\n",
            "Epoch 5/6\n",
            "60000/60000 [==============================] - 5s 84us/step - loss: 0.1175 - acc: 0.9647 - val_loss: 0.1155 - val_acc: 0.9638\n",
            "Epoch 6/6\n",
            "60000/60000 [==============================] - 5s 84us/step - loss: 0.1028 - acc: 0.9688 - val_loss: 0.2114 - val_acc: 0.9259\n"
          ],
          "name": "stdout"
        }
      ]
    },
    {
      "metadata": {
        "id": "eZ8KSqn6bFXu",
        "colab_type": "code",
        "colab": {
          "base_uri": "https://localhost:8080/",
          "height": 267
        },
        "outputId": "00b9eccf-1c17-45be-9904-86f67dc74a83"
      },
      "cell_type": "code",
      "source": [
        "plt.plot(log.history['loss'], label='train')\n",
        "plt.plot(log.history['val_loss'], label='test')\n",
        "plt.legend();"
      ],
      "execution_count": 120,
      "outputs": [
        {
          "output_type": "display_data",
          "data": {
            "image/png": "[encoded data removed]",
            "text/plain": [
              "<matplotlib.figure.Figure at 0x7f0193815550>"
            ]
          },
          "metadata": {
            "tags": []
          }
        }
      ]
    },
    {
      "metadata": {
        "id": "ZnVG_p3UfR5o",
        "colab_type": "text"
      },
      "cell_type": "markdown",
      "source": [
        "# Extra"
      ]
    },
    {
      "metadata": {
        "id": "aXed4alCfe6I",
        "colab_type": "text"
      },
      "cell_type": "markdown",
      "source": [
        "## Utils"
      ]
    },
    {
      "metadata": {
        "id": "MeENVzneRv7b",
        "colab_type": "code",
        "colab": {}
      },
      "cell_type": "code",
      "source": [
        "import keras, math\n",
        "import numpy as np\n",
        "import keras.backend as K\n",
        "import matplotlib.pyplot as plt\n",
        "from pathlib import Path\n",
        "\n",
        "def show_results(model, log, cycling=False):\n",
        "    loss, acc = model.evaluate(x_test, y_test, batch_size=512, verbose=False)\n",
        "    print(f'Loss     = {loss:.4f}')\n",
        "    print(f'Accuracy = {acc:.4f}')\n",
        "    \n",
        "    val_loss = log.history['val_loss']\n",
        "    val_acc = log.history['val_acc']\n",
        "    if cycling:\n",
        "        val_loss += [loss]\n",
        "        val_acc += [acc]\n",
        "        \n",
        "    fig, axes = plt.subplots(1, 2, figsize=(14,4))\n",
        "    ax1, ax2 = axes\n",
        "    ax1.plot(log.history['loss'], label='train')\n",
        "    ax1.plot(val_loss, label='test')\n",
        "    ax1.set_xlabel('epoch'); ax1.set_ylabel('loss')\n",
        "    ax2.plot(log.history['acc'], label='train')\n",
        "    ax2.plot(val_acc, label='test')\n",
        "    ax2.set_xlabel('epoch'); ax2.set_ylabel('accuracy')\n",
        "    for ax in axes: ax.legend()\n",
        "\n",
        "def reset_weights(model):\n",
        "    session = K.get_session()\n",
        "    for layer in model.layers: \n",
        "        if hasattr(layer, 'kernel_initializer'): layer.kernel.initializer.run(session=session)\n",
        "        if hasattr(layer, 'bias'):\n",
        "            if layer.bias and hasattr(layer, 'bias_initializer'): layer.bias.initializer.run(session=session)\n",
        "\n",
        "class CycleLearner(keras.callbacks.Callback):\n",
        "    def __init__(self, lr, nb, n_cycle, cycle_len=1, cycle_mult=1,\n",
        "                 snapshots=False, n_snapshots=5,\n",
        "                 snapshots_name='temp_model', snapshots_folder='snapshots'):\n",
        "        super().__init__()\n",
        "        self.lr = lr\n",
        "        self.nb = nb*cycle_len\n",
        "        self.n_cycle = n_cycle\n",
        "        self.cycle_len = cycle_len\n",
        "        self.cycle_mult = cycle_mult\n",
        "        self.snapshots = snapshots\n",
        "        self.n_snapshots = n_snapshots\n",
        "        self.start_snaps = n_cycle - n_snapshots\n",
        "        self.snapshots_name = snapshots_name\n",
        "        self.snapshots_folder = Path(snapshots_folder)\n",
        "        self.lr_log = []\n",
        "        self.losses = []\n",
        "        self.iterations = []\n",
        "        if snapshots: self.snapshots_folder.mkdir(exist_ok=True)\n",
        "\n",
        "    def on_train_begin(self, logs={}):\n",
        "        self.iteration,self.epoch = 0,0\n",
        "        self.cycle_iter,self.cycle_count=0,0\n",
        "        self.update_lr()\n",
        "    \n",
        "    def on_epoch_end(self, epoch, logs=None):\n",
        "        self.epoch += 1\n",
        "\n",
        "    def on_batch_end(self, batch, logs={}):\n",
        "        self.iteration += 1\n",
        "        self.lr_log.append(K.eval(self.model.optimizer.lr))\n",
        "        loss = logs.get('loss')\n",
        "        self.losses.append(loss)\n",
        "        self.iterations.append(self.iteration)\n",
        "        self.update_lr()\n",
        "        if self.cycle_count == self.n_cycle:\n",
        "            self.model.stop_training = True\n",
        "    \n",
        "    def on_cycle_end(self):\n",
        "        self.cycle_iter = 0\n",
        "        self.nb *= self.cycle_mult\n",
        "        self.cycle_count += 1\n",
        "        if self.snapshots and self.cycle_count>self.start_snaps:\n",
        "            file = self.snapshots_folder / f'{self.snapshots_name}_{self.cycle_count}.hdf5'\n",
        "            self.model.save_weights(file, overwrite=True)\n",
        "    \n",
        "    def update_lr(self):\n",
        "        new_lr = self.calc_lr()\n",
        "        K.set_value(self.model.optimizer.lr, new_lr)\n",
        "\n",
        "    def calc_lr(self):\n",
        "        if self.iteration<self.nb/20:\n",
        "            self.cycle_iter += 1\n",
        "            return self.lr/100.\n",
        "\n",
        "        cos_out = np.cos(np.pi*(self.cycle_iter)/self.nb) + 1\n",
        "        self.cycle_iter += 1\n",
        "        if self.cycle_iter==self.nb:\n",
        "            self.on_cycle_end()\n",
        "            \n",
        "        return self.lr / 2 * cos_out        \n",
        "        \n",
        "    def plot_loss(self, skip=10):\n",
        "        plt.plot(self.iterations[skip:], self.losses[skip:])\n",
        "\n",
        "    def plot_lr(self):\n",
        "        plt.xlabel(\"iterations\")\n",
        "        plt.ylabel(\"learning rate\")\n",
        "        plt.plot(self.iterations, self.lr_log)\n",
        "\n",
        "\n",
        "class LrFinder(keras.callbacks.Callback):\n",
        "    def __init__(self, nb, start_lr=1e-5, end_lr=10):\n",
        "        super().__init__()\n",
        "        self.start_lr = start_lr\n",
        "        self.lr = start_lr\n",
        "        self.lr_mult = (end_lr/start_lr)**(1/nb)\n",
        "        self.lr_log = []\n",
        "        self.losses = []\n",
        "        self.iterations = []\n",
        "        \n",
        "    def on_train_begin(self, logs={}):\n",
        "        self.best = 1e9\n",
        "        self.iteration = 0\n",
        "        self.update_lr()\n",
        "\n",
        "    def on_batch_end(self, batch, logs={}):\n",
        "        self.iteration += 1\n",
        "        self.lr_log.append(K.eval(self.model.optimizer.lr))\n",
        "        loss = logs.get('loss')\n",
        "        self.losses.append(loss)\n",
        "        self.iterations.append(self.iteration)\n",
        "\n",
        "        if math.isnan(loss) or loss>self.best*4:\n",
        "            self.model.stop_training = True\n",
        "        if loss<self.best:\n",
        "            self.best=loss\n",
        "        self.update_lr()\n",
        "    \n",
        "    def update_lr(self):\n",
        "        new_lr = self.start_lr * (self.lr_mult**self.iteration)\n",
        "        K.set_value(self.model.optimizer.lr, new_lr)\n",
        "        \n",
        "    def plot_loss(self):\n",
        "        plt.plot(self.iterations[10:], self.losses[10:])\n",
        "\n",
        "    def plot_lr(self):\n",
        "        plt.xlabel(\"iterations\")\n",
        "        plt.ylabel(\"learning rate\")\n",
        "        plt.plot(self.iterations, self.lr_log)\n",
        "        \n",
        "    def plot(self, n_skip_start=2, xlim=None, ylim=None):\n",
        "        plt.ylabel(\"loss\")\n",
        "        plt.xlabel(\"learning rate (log scale)\")\n",
        "        plt.plot(self.lr_log[n_skip_start:], self.losses[n_skip_start:])\n",
        "        plt.xscale('log')\n",
        "        if ylim is not None: plt.ylim(top=ylim)\n",
        "        if xlim is not None: plt.xlim(right=xlim)\n",
        "        "
      ],
      "execution_count": 0,
      "outputs": []
    },
    {
      "metadata": {
        "id": "ZdN17J9hfjNZ",
        "colab_type": "text"
      },
      "cell_type": "markdown",
      "source": [
        "## Model"
      ]
    },
    {
      "metadata": {
        "id": "RqQkgtiIRv96",
        "colab_type": "code",
        "colab": {
          "base_uri": "https://localhost:8080/",
          "height": 593
        },
        "outputId": "073a43d4-bab2-4778-9ad9-b15dfcc0c921"
      },
      "cell_type": "code",
      "source": [
        "from keras.models import Model\n",
        "from keras.layers import Dense, Conv2D, MaxPool2D, Flatten,\n",
        "GlobalAvgPool2D, GlobalMaxPool2D, Dropout, BatchNormalization,\n",
        "concatenate, Layer, Input\n",
        "from keras.regularizers import l2\n",
        "from keras.optimizers import SGD\n",
        "\n",
        "lr = 0.01\n",
        "bs = 256\n",
        "nb = math.ceil(len(x_train)/bs) # Nro de batches\n",
        "l2_w = 1e-4\n",
        "\n",
        "model_in = Input((28,28,1))\n",
        "\n",
        "x = model_in\n",
        "for k in [32, 64, 128]:\n",
        "  x = Conv2D(k, 3, strides=2, activation='relu', kernel_initializer='he_normal', use_bias=False, kernel_regularizer=l2(l2_w))(x)\n",
        "  x = BatchNormalization()(x)\n",
        "\n",
        "x_avg = GlobalAvgPool2D()(x)\n",
        "x_max = GlobalMaxPool2D()(x)\n",
        "x = concatenate([x_avg, x_max])\n",
        "x = Dropout(0.25)(x)\n",
        "\n",
        "model_out = Dense(10, activation='softmax', kernel_regularizer=l2(l2_w))(x)\n",
        "\n",
        "model = Model(model_in, model_out)\n",
        "\n",
        "model.compile(SGD(lr, momentum=0.9), loss='sparse_categorical_crossentropy', metrics=['accuracy'])\n",
        "\n",
        "model.summary()"
      ],
      "execution_count": 128,
      "outputs": [
        {
          "output_type": "stream",
          "text": [
            "__________________________________________________________________________________________________\n",
            "Layer (type)                    Output Shape         Param #     Connected to                     \n",
            "==================================================================================================\n",
            "input_19 (InputLayer)           (None, 28, 28, 1)    0                                            \n",
            "__________________________________________________________________________________________________\n",
            "conv2d_136 (Conv2D)             (None, 13, 13, 32)   288         input_19[0][0]                   \n",
            "__________________________________________________________________________________________________\n",
            "batch_normalization_103 (BatchN (None, 13, 13, 32)   128         conv2d_136[0][0]                 \n",
            "__________________________________________________________________________________________________\n",
            "conv2d_137 (Conv2D)             (None, 6, 6, 64)     18432       batch_normalization_103[0][0]    \n",
            "__________________________________________________________________________________________________\n",
            "batch_normalization_104 (BatchN (None, 6, 6, 64)     256         conv2d_137[0][0]                 \n",
            "__________________________________________________________________________________________________\n",
            "conv2d_138 (Conv2D)             (None, 2, 2, 128)    73728       batch_normalization_104[0][0]    \n",
            "__________________________________________________________________________________________________\n",
            "batch_normalization_105 (BatchN (None, 2, 2, 128)    512         conv2d_138[0][0]                 \n",
            "__________________________________________________________________________________________________\n",
            "global_average_pooling2d_33 (Gl (None, 128)          0           batch_normalization_105[0][0]    \n",
            "__________________________________________________________________________________________________\n",
            "global_max_pooling2d_33 (Global (None, 128)          0           batch_normalization_105[0][0]    \n",
            "__________________________________________________________________________________________________\n",
            "concatenate_33 (Concatenate)    (None, 256)          0           global_average_pooling2d_33[0][0]\n",
            "                                                                 global_max_pooling2d_33[0][0]    \n",
            "__________________________________________________________________________________________________\n",
            "dropout_59 (Dropout)            (None, 256)          0           concatenate_33[0][0]             \n",
            "__________________________________________________________________________________________________\n",
            "dense_23 (Dense)                (None, 10)           2570        dropout_59[0][0]                 \n",
            "==================================================================================================\n",
            "Total params: 95,914\n",
            "Trainable params: 95,466\n",
            "Non-trainable params: 448\n",
            "__________________________________________________________________________________________________\n"
          ],
          "name": "stdout"
        }
      ]
    },
    {
      "metadata": {
        "id": "MlZP30R_RwAZ",
        "colab_type": "code",
        "colab": {
          "base_uri": "https://localhost:8080/",
          "height": 375
        },
        "outputId": "ea70aa4c-156c-4d31-a882-d01815140f08"
      },
      "cell_type": "code",
      "source": [
        "lr_finder = LrFinder(nb)\n",
        "model.fit(x_train, y_train, batch_size=bs, callbacks=[lr_finder])\n",
        "lr_finder.plot()"
      ],
      "execution_count": 129,
      "outputs": [
        {
          "output_type": "stream",
          "text": [
            "Epoch 1/1\n",
            " 2816/60000 [>.............................] - ETA: 24s - loss: 3.5080 - acc: 0.0952"
          ],
          "name": "stdout"
        },
        {
          "output_type": "stream",
          "text": [
            "/usr/local/lib/python3.6/dist-packages/keras/callbacks.py:120: UserWarning: Method on_batch_end() is slow compared to the batch update (0.157137). Check your callbacks.\n",
            "  % delta_t_median)\n"
          ],
          "name": "stderr"
        },
        {
          "output_type": "stream",
          "text": [
            "49664/60000 [=======================>......] - ETA: 1s - loss: 1.8092 - acc: 0.4963"
          ],
          "name": "stdout"
        },
        {
          "output_type": "display_data",
          "data": {
            "image/png": "[encoded data removed]",
            "text/plain": [
              "<matplotlib.figure.Figure at 0x7f01957af4a8>"
            ]
          },
          "metadata": {
            "tags": []
          }
        }
      ]
    },
    {
      "metadata": {
        "id": "lJZXUTKxt_KK",
        "colab_type": "code",
        "colab": {}
      },
      "cell_type": "code",
      "source": [
        "lr = 2e-2\n",
        "model.compile(SGD(lr), loss='sparse_categorical_crossentropy', metrics=['accuracy'])"
      ],
      "execution_count": 0,
      "outputs": []
    },
    {
      "metadata": {
        "id": "GPV9TWFptm93",
        "colab_type": "code",
        "colab": {
          "base_uri": "https://localhost:8080/",
          "height": 343
        },
        "outputId": "6c567e48-99cc-46a4-89b7-6c776ffe7cf5"
      },
      "cell_type": "code",
      "source": [
        "reset_weights(model)\n",
        "cycle_learner = CycleLearner(lr, nb, n_cycle=3, cycle_mult=2)\n",
        "log = model.fit(x_train, y_train, batch_size=bs, epochs=100, validation_data=[x_test, y_test], callbacks=[cycle_learner])"
      ],
      "execution_count": 133,
      "outputs": [
        {
          "output_type": "stream",
          "text": [
            "Train on 60000 samples, validate on 10000 samples\n",
            "Epoch 1/100\n",
            " 2816/60000 [>.............................] - ETA: 24s - loss: 3.2786 - acc: 0.0987"
          ],
          "name": "stdout"
        },
        {
          "output_type": "stream",
          "text": [
            "/usr/local/lib/python3.6/dist-packages/keras/callbacks.py:120: UserWarning: Method on_batch_end() is slow compared to the batch update (0.164152). Check your callbacks.\n",
            "  % delta_t_median)\n"
          ],
          "name": "stderr"
        },
        {
          "output_type": "stream",
          "text": [
            "60000/60000 [==============================] - 7s 110us/step - loss: 1.0055 - acc: 0.7037 - val_loss: 0.4973 - val_acc: 0.8733\n",
            "Epoch 2/100\n",
            "60000/60000 [==============================] - 5s 88us/step - loss: 0.4393 - acc: 0.8794 - val_loss: 0.2704 - val_acc: 0.9343\n",
            "Epoch 3/100\n",
            "60000/60000 [==============================] - 5s 88us/step - loss: 0.3329 - acc: 0.9129 - val_loss: 0.2519 - val_acc: 0.9400\n",
            "Epoch 4/100\n",
            "60000/60000 [==============================] - 5s 88us/step - loss: 0.2863 - acc: 0.9268 - val_loss: 0.1986 - val_acc: 0.9536\n",
            "Epoch 5/100\n",
            "60000/60000 [==============================] - 5s 89us/step - loss: 0.2368 - acc: 0.9419 - val_loss: 0.1774 - val_acc: 0.9588\n",
            "Epoch 6/100\n",
            "60000/60000 [==============================] - 5s 87us/step - loss: 0.2157 - acc: 0.9468 - val_loss: 0.1698 - val_acc: 0.9615\n",
            "Epoch 7/100\n",
            "59904/60000 [============================>.] - ETA: 0s - loss: 0.2083 - acc: 0.9481"
          ],
          "name": "stdout"
        }
      ]
    },
    {
      "metadata": {
        "id": "EMwonTREtnA8",
        "colab_type": "code",
        "colab": {
          "base_uri": "https://localhost:8080/",
          "height": 577
        },
        "outputId": "05a9f434-2e41-4d4a-bddb-89aff065f0cc"
      },
      "cell_type": "code",
      "source": [
        "cycle_learner.plot_lr()\n",
        "show_results(model, log, cycling=True)"
      ],
      "execution_count": 134,
      "outputs": [
        {
          "output_type": "stream",
          "text": [
            "Loss     = 0.1686\n",
            "Accuracy = 0.9612\n"
          ],
          "name": "stdout"
        },
        {
          "output_type": "display_data",
          "data": {
            "image/png": "[encoded data removed]",
            "text/plain": [
              "<matplotlib.figure.Figure at 0x7f01a83ff748>"
            ]
          },
          "metadata": {
            "tags": []
          }
        },
        {
          "output_type": "display_data",
          "data": {
            "image/png": "[encoded data removed]",
            "text/plain": [
              "<matplotlib.figure.Figure at 0x7f018e336518>"
            ]
          },
          "metadata": {
            "tags": []
          }
        }
      ]
    },
    {
      "metadata": {
        "id": "L2LvlqZTqodg",
        "colab_type": "code",
        "colab": {}
      },
      "cell_type": "code",
      "source": [
        ""
      ],
      "execution_count": 0,
      "outputs": []
    },
    {
      "metadata": {
        "id": "r-Q9dtcSqohM",
        "colab_type": "code",
        "colab": {}
      },
      "cell_type": "code",
      "source": [
        ""
      ],
      "execution_count": 0,
      "outputs": []
    },
    {
      "metadata": {
        "id": "yNlrMxjUqjQC",
        "colab_type": "code",
        "colab": {}
      },
      "cell_type": "code",
      "source": [
        ""
      ],
      "execution_count": 0,
      "outputs": []
    },
    {
      "metadata": {
        "id": "4mRkXA2gqjPG",
        "colab_type": "code",
        "colab": {}
      },
      "cell_type": "code",
      "source": [
        ""
      ],
      "execution_count": 0,
      "outputs": []
    },
    {
      "metadata": {
        "id": "ngbS1K3CiSMs",
        "colab_type": "code",
        "colab": {}
      },
      "cell_type": "code",
      "source": [
        ""
      ],
      "execution_count": 0,
      "outputs": []
    }
  ]
}