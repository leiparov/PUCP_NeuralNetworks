{
 "cells": [
  {
   "cell_type": "markdown",
   "metadata": {},
   "source": [
    "Dataset: [MovieLens](https://grouplens.org/datasets/movielens/)"
   ]
  },
  {
   "cell_type": "code",
   "execution_count": 1,
   "metadata": {},
   "outputs": [],
   "source": [
    "import math\n",
    "import pandas as pd\n",
    "import numpy as np\n",
    "import matplotlib.pyplot as plt\n",
    "from sklearn.model_selection import train_test_split\n",
    "%matplotlib inline"
   ]
  },
  {
   "cell_type": "markdown",
   "metadata": {},
   "source": [
    "# Examinando el dataset"
   ]
  },
  {
   "cell_type": "code",
   "execution_count": 2,
   "metadata": {},
   "outputs": [
    {
     "name": "stdout",
     "output_type": "stream",
     "text": [
      "(100004, 4)\n"
     ]
    },
    {
     "data": {
      "text/html": [
       "<div>\n",
       "<style scoped>\n",
       "    .dataframe tbody tr th:only-of-type {\n",
       "        vertical-align: middle;\n",
       "    }\n",
       "\n",
       "    .dataframe tbody tr th {\n",
       "        vertical-align: top;\n",
       "    }\n",
       "\n",
       "    .dataframe thead th {\n",
       "        text-align: right;\n",
       "    }\n",
       "</style>\n",
       "<table border=\"1\" class=\"dataframe\">\n",
       "  <thead>\n",
       "    <tr style=\"text-align: right;\">\n",
       "      <th></th>\n",
       "      <th>userId</th>\n",
       "      <th>movieId</th>\n",
       "      <th>rating</th>\n",
       "      <th>timestamp</th>\n",
       "    </tr>\n",
       "  </thead>\n",
       "  <tbody>\n",
       "    <tr>\n",
       "      <th>0</th>\n",
       "      <td>1</td>\n",
       "      <td>31</td>\n",
       "      <td>2.5</td>\n",
       "      <td>1260759144</td>\n",
       "    </tr>\n",
       "    <tr>\n",
       "      <th>1</th>\n",
       "      <td>1</td>\n",
       "      <td>1029</td>\n",
       "      <td>3.0</td>\n",
       "      <td>1260759179</td>\n",
       "    </tr>\n",
       "    <tr>\n",
       "      <th>2</th>\n",
       "      <td>1</td>\n",
       "      <td>1061</td>\n",
       "      <td>3.0</td>\n",
       "      <td>1260759182</td>\n",
       "    </tr>\n",
       "    <tr>\n",
       "      <th>3</th>\n",
       "      <td>1</td>\n",
       "      <td>1129</td>\n",
       "      <td>2.0</td>\n",
       "      <td>1260759185</td>\n",
       "    </tr>\n",
       "    <tr>\n",
       "      <th>4</th>\n",
       "      <td>1</td>\n",
       "      <td>1172</td>\n",
       "      <td>4.0</td>\n",
       "      <td>1260759205</td>\n",
       "    </tr>\n",
       "  </tbody>\n",
       "</table>\n",
       "</div>"
      ],
      "text/plain": [
       "   userId  movieId  rating   timestamp\n",
       "0       1       31     2.5  1260759144\n",
       "1       1     1029     3.0  1260759179\n",
       "2       1     1061     3.0  1260759182\n",
       "3       1     1129     2.0  1260759185\n",
       "4       1     1172     4.0  1260759205"
      ]
     },
     "execution_count": 2,
     "metadata": {},
     "output_type": "execute_result"
    }
   ],
   "source": [
    "ratings = pd.read_csv('data/ml-latest-small/ratings.csv')\n",
    "print(ratings.shape)\n",
    "ratings.head(5)"
   ]
  },
  {
   "cell_type": "code",
   "execution_count": 3,
   "metadata": {},
   "outputs": [
    {
     "data": {
      "text/html": [
       "<div>\n",
       "<style scoped>\n",
       "    .dataframe tbody tr th:only-of-type {\n",
       "        vertical-align: middle;\n",
       "    }\n",
       "\n",
       "    .dataframe tbody tr th {\n",
       "        vertical-align: top;\n",
       "    }\n",
       "\n",
       "    .dataframe thead th {\n",
       "        text-align: right;\n",
       "    }\n",
       "</style>\n",
       "<table border=\"1\" class=\"dataframe\">\n",
       "  <thead>\n",
       "    <tr style=\"text-align: right;\">\n",
       "      <th></th>\n",
       "      <th>movieId</th>\n",
       "      <th>title</th>\n",
       "      <th>genres</th>\n",
       "    </tr>\n",
       "  </thead>\n",
       "  <tbody>\n",
       "    <tr>\n",
       "      <th>0</th>\n",
       "      <td>1</td>\n",
       "      <td>Toy Story (1995)</td>\n",
       "      <td>Adventure|Animation|Children|Comedy|Fantasy</td>\n",
       "    </tr>\n",
       "    <tr>\n",
       "      <th>1</th>\n",
       "      <td>2</td>\n",
       "      <td>Jumanji (1995)</td>\n",
       "      <td>Adventure|Children|Fantasy</td>\n",
       "    </tr>\n",
       "    <tr>\n",
       "      <th>2</th>\n",
       "      <td>3</td>\n",
       "      <td>Grumpier Old Men (1995)</td>\n",
       "      <td>Comedy|Romance</td>\n",
       "    </tr>\n",
       "    <tr>\n",
       "      <th>3</th>\n",
       "      <td>4</td>\n",
       "      <td>Waiting to Exhale (1995)</td>\n",
       "      <td>Comedy|Drama|Romance</td>\n",
       "    </tr>\n",
       "    <tr>\n",
       "      <th>4</th>\n",
       "      <td>5</td>\n",
       "      <td>Father of the Bride Part II (1995)</td>\n",
       "      <td>Comedy</td>\n",
       "    </tr>\n",
       "  </tbody>\n",
       "</table>\n",
       "</div>"
      ],
      "text/plain": [
       "   movieId                               title  \\\n",
       "0        1                    Toy Story (1995)   \n",
       "1        2                      Jumanji (1995)   \n",
       "2        3             Grumpier Old Men (1995)   \n",
       "3        4            Waiting to Exhale (1995)   \n",
       "4        5  Father of the Bride Part II (1995)   \n",
       "\n",
       "                                        genres  \n",
       "0  Adventure|Animation|Children|Comedy|Fantasy  \n",
       "1                   Adventure|Children|Fantasy  \n",
       "2                               Comedy|Romance  \n",
       "3                         Comedy|Drama|Romance  \n",
       "4                                       Comedy  "
      ]
     },
     "execution_count": 3,
     "metadata": {},
     "output_type": "execute_result"
    }
   ],
   "source": [
    "movie_names = pd.read_csv('data/ml-latest-small/movies.csv')\n",
    "movie_names.head()"
   ]
  },
  {
   "cell_type": "code",
   "execution_count": 4,
   "metadata": {},
   "outputs": [
    {
     "data": {
      "text/html": [
       "<div>\n",
       "<style scoped>\n",
       "    .dataframe tbody tr th:only-of-type {\n",
       "        vertical-align: middle;\n",
       "    }\n",
       "\n",
       "    .dataframe tbody tr th {\n",
       "        vertical-align: top;\n",
       "    }\n",
       "\n",
       "    .dataframe thead th {\n",
       "        text-align: right;\n",
       "    }\n",
       "</style>\n",
       "<table border=\"1\" class=\"dataframe\">\n",
       "  <thead>\n",
       "    <tr style=\"text-align: right;\">\n",
       "      <th></th>\n",
       "      <th>userId</th>\n",
       "      <th>movieId</th>\n",
       "      <th>rating</th>\n",
       "      <th>title</th>\n",
       "      <th>genres</th>\n",
       "    </tr>\n",
       "  </thead>\n",
       "  <tbody>\n",
       "    <tr>\n",
       "      <th>0</th>\n",
       "      <td>1</td>\n",
       "      <td>31</td>\n",
       "      <td>2.5</td>\n",
       "      <td>Twelve Monkeys (a.k.a. 12 Monkeys) (1995)</td>\n",
       "      <td>Mystery|Sci-Fi|Thriller</td>\n",
       "    </tr>\n",
       "    <tr>\n",
       "      <th>1</th>\n",
       "      <td>1</td>\n",
       "      <td>1029</td>\n",
       "      <td>3.0</td>\n",
       "      <td>Highlander (1986)</td>\n",
       "      <td>Action|Adventure|Fantasy</td>\n",
       "    </tr>\n",
       "    <tr>\n",
       "      <th>2</th>\n",
       "      <td>1</td>\n",
       "      <td>1061</td>\n",
       "      <td>3.0</td>\n",
       "      <td>Hype! (1996)</td>\n",
       "      <td>Documentary</td>\n",
       "    </tr>\n",
       "    <tr>\n",
       "      <th>3</th>\n",
       "      <td>1</td>\n",
       "      <td>1129</td>\n",
       "      <td>2.0</td>\n",
       "      <td>Mars Attacks! (1996)</td>\n",
       "      <td>Action|Comedy|Sci-Fi</td>\n",
       "    </tr>\n",
       "    <tr>\n",
       "      <th>4</th>\n",
       "      <td>1</td>\n",
       "      <td>1172</td>\n",
       "      <td>4.0</td>\n",
       "      <td>Gridlock'd (1997)</td>\n",
       "      <td>Crime</td>\n",
       "    </tr>\n",
       "  </tbody>\n",
       "</table>\n",
       "</div>"
      ],
      "text/plain": [
       "   userId  movieId  rating                                      title  \\\n",
       "0       1       31     2.5  Twelve Monkeys (a.k.a. 12 Monkeys) (1995)   \n",
       "1       1     1029     3.0                          Highlander (1986)   \n",
       "2       1     1061     3.0                               Hype! (1996)   \n",
       "3       1     1129     2.0                       Mars Attacks! (1996)   \n",
       "4       1     1172     4.0                          Gridlock'd (1997)   \n",
       "\n",
       "                     genres  \n",
       "0   Mystery|Sci-Fi|Thriller  \n",
       "1  Action|Adventure|Fantasy  \n",
       "2               Documentary  \n",
       "3      Action|Comedy|Sci-Fi  \n",
       "4                     Crime  "
      ]
     },
     "execution_count": 4,
     "metadata": {},
     "output_type": "execute_result"
    }
   ],
   "source": [
    "# Justamos los 2 datasets y filtramos las columnas que nos interesan\n",
    "ratings = ratings.join(movie_names, on='movieId', rsuffix='_')[['userId', 'movieId', 'rating', 'title', 'genres']]\n",
    "ratings.head()"
   ]
  },
  {
   "cell_type": "code",
   "execution_count": 5,
   "metadata": {},
   "outputs": [
    {
     "data": {
      "text/plain": [
       "(array([1, 2, 3, 4, 5]), array([  31, 1029, 1061, 1129, 1172]))"
      ]
     },
     "execution_count": 5,
     "metadata": {},
     "output_type": "execute_result"
    }
   ],
   "source": [
    "# Obtenemos la lista de usuarios y peliculas unicas\n",
    "users = ratings.userId.unique()\n",
    "movies = ratings.movieId.unique()\n",
    "users[:5], movies[:5]"
   ]
  },
  {
   "cell_type": "code",
   "execution_count": 6,
   "metadata": {},
   "outputs": [
    {
     "data": {
      "text/html": [
       "<div>\n",
       "<style scoped>\n",
       "    .dataframe tbody tr th:only-of-type {\n",
       "        vertical-align: middle;\n",
       "    }\n",
       "\n",
       "    .dataframe tbody tr th {\n",
       "        vertical-align: top;\n",
       "    }\n",
       "\n",
       "    .dataframe thead th {\n",
       "        text-align: right;\n",
       "    }\n",
       "</style>\n",
       "<table border=\"1\" class=\"dataframe\">\n",
       "  <thead>\n",
       "    <tr style=\"text-align: right;\">\n",
       "      <th></th>\n",
       "      <th>userId</th>\n",
       "      <th>movieId</th>\n",
       "      <th>rating</th>\n",
       "      <th>title</th>\n",
       "      <th>genres</th>\n",
       "    </tr>\n",
       "  </thead>\n",
       "  <tbody>\n",
       "    <tr>\n",
       "      <th>0</th>\n",
       "      <td>0</td>\n",
       "      <td>0</td>\n",
       "      <td>2.5</td>\n",
       "      <td>Twelve Monkeys (a.k.a. 12 Monkeys) (1995)</td>\n",
       "      <td>Mystery|Sci-Fi|Thriller</td>\n",
       "    </tr>\n",
       "    <tr>\n",
       "      <th>1</th>\n",
       "      <td>0</td>\n",
       "      <td>1</td>\n",
       "      <td>3.0</td>\n",
       "      <td>Highlander (1986)</td>\n",
       "      <td>Action|Adventure|Fantasy</td>\n",
       "    </tr>\n",
       "    <tr>\n",
       "      <th>2</th>\n",
       "      <td>0</td>\n",
       "      <td>2</td>\n",
       "      <td>3.0</td>\n",
       "      <td>Hype! (1996)</td>\n",
       "      <td>Documentary</td>\n",
       "    </tr>\n",
       "    <tr>\n",
       "      <th>3</th>\n",
       "      <td>0</td>\n",
       "      <td>3</td>\n",
       "      <td>2.0</td>\n",
       "      <td>Mars Attacks! (1996)</td>\n",
       "      <td>Action|Comedy|Sci-Fi</td>\n",
       "    </tr>\n",
       "    <tr>\n",
       "      <th>4</th>\n",
       "      <td>0</td>\n",
       "      <td>4</td>\n",
       "      <td>4.0</td>\n",
       "      <td>Gridlock'd (1997)</td>\n",
       "      <td>Crime</td>\n",
       "    </tr>\n",
       "  </tbody>\n",
       "</table>\n",
       "</div>"
      ],
      "text/plain": [
       "   userId  movieId  rating                                      title  \\\n",
       "0       0        0     2.5  Twelve Monkeys (a.k.a. 12 Monkeys) (1995)   \n",
       "1       0        1     3.0                          Highlander (1986)   \n",
       "2       0        2     3.0                               Hype! (1996)   \n",
       "3       0        3     2.0                       Mars Attacks! (1996)   \n",
       "4       0        4     4.0                          Gridlock'd (1997)   \n",
       "\n",
       "                     genres  \n",
       "0   Mystery|Sci-Fi|Thriller  \n",
       "1  Action|Adventure|Fantasy  \n",
       "2               Documentary  \n",
       "3      Action|Comedy|Sci-Fi  \n",
       "4                     Crime  "
      ]
     },
     "execution_count": 6,
     "metadata": {},
     "output_type": "execute_result"
    }
   ],
   "source": [
    "# Obtenemos un diccionario de IDs a numeros ordenados\n",
    "userid2idx = {o:i for i,o in enumerate(users)}\n",
    "movieid2idx = {o:i for i,o in enumerate(movies)}\n",
    "\n",
    "# Reemplazamos los IDs por los codigos del diccionario\n",
    "ratings.movieId = ratings.movieId.apply(lambda x: movieid2idx[x])\n",
    "ratings.userId = ratings.userId.apply(lambda x: userid2idx[x])\n",
    "\n",
    "ratings.head()"
   ]
  },
  {
   "cell_type": "code",
   "execution_count": 7,
   "metadata": {},
   "outputs": [
    {
     "data": {
      "text/plain": [
       "(671, 9066)"
      ]
     },
     "execution_count": 7,
     "metadata": {},
     "output_type": "execute_result"
    }
   ],
   "source": [
    "# Cantidad de usuarios y peliculas\n",
    "n_users = ratings.userId.nunique()\n",
    "n_movies = ratings.movieId.nunique()\n",
    "n_users, n_movies"
   ]
  },
  {
   "cell_type": "markdown",
   "metadata": {},
   "source": [
    "Teniendo este número de registros y si definimos 25 factores para describir cada variable, se tendrian las siguientes tablas de embeddings:\n",
    "- **Users:** (671x25)\n",
    "- **Movies:** (9066x25)"
   ]
  },
  {
   "cell_type": "markdown",
   "metadata": {},
   "source": [
    "# Train validation split"
   ]
  },
  {
   "cell_type": "code",
   "execution_count": 8,
   "metadata": {},
   "outputs": [
    {
     "data": {
      "text/plain": [
       "((80003, 5), (20001, 5))"
      ]
     },
     "execution_count": 8,
     "metadata": {},
     "output_type": "execute_result"
    }
   ],
   "source": [
    "df_train, df_val = train_test_split(ratings, test_size=0.2, random_state=42)\n",
    "df_train.shape, df_val.shape"
   ]
  },
  {
   "cell_type": "code",
   "execution_count": 9,
   "metadata": {},
   "outputs": [],
   "source": [
    "x_train, x_val = [df_train.userId, df_train.movieId], [df_val.userId, df_val.movieId]\n",
    "y_train, y_val = df_train.rating, df_val.rating"
   ]
  },
  {
   "cell_type": "markdown",
   "metadata": {},
   "source": [
    "# Crear el modelo"
   ]
  },
  {
   "cell_type": "code",
   "execution_count": 10,
   "metadata": {},
   "outputs": [
    {
     "name": "stderr",
     "output_type": "stream",
     "text": [
      "Using TensorFlow backend.\n"
     ]
    }
   ],
   "source": [
    "from keras.models import Model\n",
    "from keras.layers import Dense, Embedding, Input, dot, add, Flatten\n",
    "from keras.optimizers import Adam\n",
    "from keras.regularizers import l2\n",
    "import keras.backend as K"
   ]
  },
  {
   "cell_type": "code",
   "execution_count": 11,
   "metadata": {},
   "outputs": [
    {
     "name": "stdout",
     "output_type": "stream",
     "text": [
      "__________________________________________________________________________________________________\n",
      "Layer (type)                    Output Shape         Param #     Connected to                     \n",
      "==================================================================================================\n",
      "user_in (InputLayer)            (None, 1)            0                                            \n",
      "__________________________________________________________________________________________________\n",
      "movie_in (InputLayer)           (None, 1)            0                                            \n",
      "__________________________________________________________________________________________________\n",
      "embedding_1 (Embedding)         (None, 1, 10)        6710        user_in[0][0]                    \n",
      "__________________________________________________________________________________________________\n",
      "embedding_2 (Embedding)         (None, 1, 10)        90660       movie_in[0][0]                   \n",
      "__________________________________________________________________________________________________\n",
      "dot_1 (Dot)                     (None, 1, 1)         0           embedding_1[0][0]                \n",
      "                                                                 embedding_2[0][0]                \n",
      "__________________________________________________________________________________________________\n",
      "flatten_1 (Flatten)             (None, 1)            0           dot_1[0][0]                      \n",
      "==================================================================================================\n",
      "Total params: 97,370\n",
      "Trainable params: 97,370\n",
      "Non-trainable params: 0\n",
      "__________________________________________________________________________________________________\n"
     ]
    }
   ],
   "source": [
    "# Cuantos factores va a usar el Embedding para describir nuestras variables\n",
    "bs = 128\n",
    "n_factors = 10\n",
    "lr = 0.005\n",
    "\n",
    "# Embeddings para los usuarios\n",
    "user_in = Input(shape=(1,), dtype='int64', name='user_in')\n",
    "u = Embedding(n_users, n_factors, embeddings_regularizer=l2(1e-4))(user_in)\n",
    "\n",
    "# Embeddings para las peliculas\n",
    "movie_in = Input(shape=(1,), dtype='int64', name='movie_in')\n",
    "m = Embedding(n_movies, n_factors, embeddings_regularizer=l2(1e-4))(movie_in)\n",
    "\n",
    "m_out = dot([u, m], axes=2)\n",
    "m_out = Flatten()(m_out)\n",
    "model = Model(inputs=[user_in, movie_in], outputs=m_out)\n",
    "model.compile(Adam(lr), loss='mse')\n",
    "model.summary()"
   ]
  },
  {
   "cell_type": "markdown",
   "metadata": {},
   "source": [
    "# Entrenar"
   ]
  },
  {
   "cell_type": "code",
   "execution_count": 12,
   "metadata": {},
   "outputs": [
    {
     "name": "stdout",
     "output_type": "stream",
     "text": [
      "Train on 80003 samples, validate on 20001 samples\n",
      "Epoch 1/5\n",
      "80003/80003 [==============================] - 2s 25us/step - loss: 7.3987 - val_loss: 3.1174\n",
      "Epoch 2/5\n",
      "80003/80003 [==============================] - 2s 23us/step - loss: 2.5831 - val_loss: 2.6379\n",
      "Epoch 3/5\n",
      "80003/80003 [==============================] - 2s 23us/step - loss: 2.3071 - val_loss: 2.6017\n",
      "Epoch 4/5\n",
      "80003/80003 [==============================] - 2s 23us/step - loss: 2.2493 - val_loss: 2.6020\n",
      "Epoch 5/5\n",
      "80003/80003 [==============================] - 2s 23us/step - loss: 2.2233 - val_loss: 2.6041\n"
     ]
    }
   ],
   "source": [
    "log = model.fit(x_train, y_train, bs, epochs=5, validation_data=[x_val, y_val])"
   ]
  },
  {
   "cell_type": "code",
   "execution_count": 13,
   "metadata": {},
   "outputs": [],
   "source": [
    "def show_results(*logs):\n",
    "    train_loss, val_loss = [], []\n",
    "    for log in logs:\n",
    "        train_loss += log.history['loss']\n",
    "        val_loss += log.history['val_loss']\n",
    "        \n",
    "    plt.plot(train_loss, '-o', label='train')\n",
    "    plt.plot(val_loss, '-o', label='validation')\n",
    "    plt.legend()"
   ]
  },
  {
   "cell_type": "code",
   "execution_count": 14,
   "metadata": {},
   "outputs": [
    {
     "data": {
      "image/png": "[encoded data removed]",
      "text/plain": [
       "<Figure size 432x288 with 1 Axes>"
      ]
     },
     "metadata": {
      "needs_background": "light"
     },
     "output_type": "display_data"
    }
   ],
   "source": [
    "show_results(log)"
   ]
  },
  {
   "cell_type": "code",
   "execution_count": 15,
   "metadata": {},
   "outputs": [
    {
     "data": {
      "text/html": [
       "<div>\n",
       "<style scoped>\n",
       "    .dataframe tbody tr th:only-of-type {\n",
       "        vertical-align: middle;\n",
       "    }\n",
       "\n",
       "    .dataframe tbody tr th {\n",
       "        vertical-align: top;\n",
       "    }\n",
       "\n",
       "    .dataframe thead th {\n",
       "        text-align: right;\n",
       "    }\n",
       "</style>\n",
       "<table border=\"1\" class=\"dataframe\">\n",
       "  <thead>\n",
       "    <tr style=\"text-align: right;\">\n",
       "      <th></th>\n",
       "      <th>userId</th>\n",
       "      <th>movieId</th>\n",
       "      <th>rating</th>\n",
       "      <th>title</th>\n",
       "      <th>genres</th>\n",
       "    </tr>\n",
       "  </thead>\n",
       "  <tbody>\n",
       "    <tr>\n",
       "      <th>47967</th>\n",
       "      <td>352</td>\n",
       "      <td>263</td>\n",
       "      <td>2.0</td>\n",
       "      <td>Ghostbusters II (1989)</td>\n",
       "      <td>Comedy|Fantasy|Sci-Fi</td>\n",
       "    </tr>\n",
       "  </tbody>\n",
       "</table>\n",
       "</div>"
      ],
      "text/plain": [
       "       userId  movieId  rating                   title                 genres\n",
       "47967     352      263     2.0  Ghostbusters II (1989)  Comedy|Fantasy|Sci-Fi"
      ]
     },
     "execution_count": 15,
     "metadata": {},
     "output_type": "execute_result"
    }
   ],
   "source": [
    "sample = df_val.sample()\n",
    "sample"
   ]
  },
  {
   "cell_type": "code",
   "execution_count": 16,
   "metadata": {},
   "outputs": [
    {
     "data": {
      "text/plain": [
       "array([[2.6512873]], dtype=float32)"
      ]
     },
     "execution_count": 16,
     "metadata": {},
     "output_type": "execute_result"
    }
   ],
   "source": [
    "model.predict([sample.userId, sample.movieId])"
   ]
  },
  {
   "cell_type": "markdown",
   "metadata": {},
   "source": [
    "# Agregar un bias a la red"
   ]
  },
  {
   "cell_type": "code",
   "execution_count": 17,
   "metadata": {},
   "outputs": [
    {
     "name": "stdout",
     "output_type": "stream",
     "text": [
      "__________________________________________________________________________________________________\n",
      "Layer (type)                    Output Shape         Param #     Connected to                     \n",
      "==================================================================================================\n",
      "user_in (InputLayer)            (None, 1)            0                                            \n",
      "__________________________________________________________________________________________________\n",
      "movie_in (InputLayer)           (None, 1)            0                                            \n",
      "__________________________________________________________________________________________________\n",
      "embedding_3 (Embedding)         (None, 1, 10)        6710        user_in[0][0]                    \n",
      "__________________________________________________________________________________________________\n",
      "embedding_4 (Embedding)         (None, 1, 10)        90660       movie_in[0][0]                   \n",
      "__________________________________________________________________________________________________\n",
      "dot_2 (Dot)                     (None, 1, 1)         0           embedding_3[0][0]                \n",
      "                                                                 embedding_4[0][0]                \n",
      "__________________________________________________________________________________________________\n",
      "embedding_5 (Embedding)         (None, 1, 1)         671         user_in[0][0]                    \n",
      "__________________________________________________________________________________________________\n",
      "flatten_4 (Flatten)             (None, 1)            0           dot_2[0][0]                      \n",
      "__________________________________________________________________________________________________\n",
      "flatten_2 (Flatten)             (None, 1)            0           embedding_5[0][0]                \n",
      "__________________________________________________________________________________________________\n",
      "embedding_6 (Embedding)         (None, 1, 1)         9066        movie_in[0][0]                   \n",
      "__________________________________________________________________________________________________\n",
      "add_1 (Add)                     (None, 1)            0           flatten_4[0][0]                  \n",
      "                                                                 flatten_2[0][0]                  \n",
      "__________________________________________________________________________________________________\n",
      "flatten_3 (Flatten)             (None, 1)            0           embedding_6[0][0]                \n",
      "__________________________________________________________________________________________________\n",
      "add_2 (Add)                     (None, 1)            0           add_1[0][0]                      \n",
      "                                                                 flatten_3[0][0]                  \n",
      "==================================================================================================\n",
      "Total params: 107,107\n",
      "Trainable params: 107,107\n",
      "Non-trainable params: 0\n",
      "__________________________________________________________________________________________________\n"
     ]
    }
   ],
   "source": [
    "bs = 128\n",
    "n_factors = 10\n",
    "lr = 0.01\n",
    "\n",
    "user_in = Input(shape=(1,), dtype='int64', name='user_in')\n",
    "u = Embedding(n_users, n_factors, embeddings_regularizer=l2(1e-4))(user_in)\n",
    "\n",
    "movie_in = Input(shape=(1,), dtype='int64', name='movie_in')\n",
    "m = Embedding(n_movies, n_factors, embeddings_regularizer=l2(1e-4))(movie_in)\n",
    "\n",
    "# Bias para los usuarios\n",
    "u_bias = Embedding(n_users, 1, input_length=1)(user_in)\n",
    "u_bias = Flatten()(u_bias)\n",
    "\n",
    "# Bias para las peliculas\n",
    "m_bias = Embedding(n_movies, 1, input_length=1)(movie_in)\n",
    "m_bias = Flatten()(m_bias)\n",
    "\n",
    "m_out = dot([u, m], axes=2)\n",
    "m_out = Flatten()(m_out)\n",
    "\n",
    "# Sumamos los bias al producto\n",
    "m_out = add([m_out, u_bias])\n",
    "m_out = add([m_out, m_bias])\n",
    "\n",
    "model = Model(inputs=[user_in, movie_in], outputs=m_out)\n",
    "model.compile(Adam(lr), loss='mse')\n",
    "model.summary()"
   ]
  },
  {
   "cell_type": "code",
   "execution_count": 18,
   "metadata": {},
   "outputs": [
    {
     "name": "stdout",
     "output_type": "stream",
     "text": [
      "Train on 80003 samples, validate on 20001 samples\n",
      "Epoch 1/5\n",
      "80003/80003 [==============================] - 2s 27us/step - loss: 4.1743 - val_loss: 1.7884\n",
      "Epoch 2/5\n",
      "80003/80003 [==============================] - 2s 24us/step - loss: 1.5369 - val_loss: 1.4890\n",
      "Epoch 3/5\n",
      "80003/80003 [==============================] - 2s 24us/step - loss: 1.2492 - val_loss: 1.2558\n",
      "Epoch 4/5\n",
      "80003/80003 [==============================] - 2s 24us/step - loss: 1.0238 - val_loss: 1.0774\n",
      "Epoch 5/5\n",
      "80003/80003 [==============================] - 2s 24us/step - loss: 0.8575 - val_loss: 0.9794\n"
     ]
    }
   ],
   "source": [
    "log1 = model.fit(x_train, y_train, bs, epochs=5, validation_data=[x_val, y_val])"
   ]
  },
  {
   "cell_type": "code",
   "execution_count": 19,
   "metadata": {},
   "outputs": [
    {
     "name": "stdout",
     "output_type": "stream",
     "text": [
      "Train on 80003 samples, validate on 20001 samples\n",
      "Epoch 1/5\n",
      "80003/80003 [==============================] - 2s 24us/step - loss: 0.6961 - val_loss: 0.9510\n",
      "Epoch 2/5\n",
      "80003/80003 [==============================] - 2s 24us/step - loss: 0.6657 - val_loss: 0.9371\n",
      "Epoch 3/5\n",
      "80003/80003 [==============================] - 2s 24us/step - loss: 0.6474 - val_loss: 0.9296\n",
      "Epoch 4/5\n",
      "80003/80003 [==============================] - 2s 24us/step - loss: 0.6344 - val_loss: 0.9255\n",
      "Epoch 5/5\n",
      "80003/80003 [==============================] - 2s 24us/step - loss: 0.6240 - val_loss: 0.9235\n"
     ]
    }
   ],
   "source": [
    "# Reducimos el learning rate\n",
    "K.eval(model.optimizer.lr.assign(lr/10))\n",
    "\n",
    "log2 = model.fit(x_train, y_train, bs, epochs=5, validation_data=[x_val, y_val])"
   ]
  },
  {
   "cell_type": "code",
   "execution_count": 20,
   "metadata": {},
   "outputs": [
    {
     "data": {
      "image/png": "[encoded data removed]",
      "text/plain": [
       "<Figure size 432x288 with 1 Axes>"
      ]
     },
     "metadata": {
      "needs_background": "light"
     },
     "output_type": "display_data"
    }
   ],
   "source": [
    "show_results(log1, log2)"
   ]
  },
  {
   "cell_type": "code",
   "execution_count": 21,
   "metadata": {},
   "outputs": [
    {
     "data": {
      "text/html": [
       "<div>\n",
       "<style scoped>\n",
       "    .dataframe tbody tr th:only-of-type {\n",
       "        vertical-align: middle;\n",
       "    }\n",
       "\n",
       "    .dataframe tbody tr th {\n",
       "        vertical-align: top;\n",
       "    }\n",
       "\n",
       "    .dataframe thead th {\n",
       "        text-align: right;\n",
       "    }\n",
       "</style>\n",
       "<table border=\"1\" class=\"dataframe\">\n",
       "  <thead>\n",
       "    <tr style=\"text-align: right;\">\n",
       "      <th></th>\n",
       "      <th>userId</th>\n",
       "      <th>movieId</th>\n",
       "      <th>rating</th>\n",
       "      <th>title</th>\n",
       "      <th>genres</th>\n",
       "    </tr>\n",
       "  </thead>\n",
       "  <tbody>\n",
       "    <tr>\n",
       "      <th>58459</th>\n",
       "      <td>424</td>\n",
       "      <td>119</td>\n",
       "      <td>5.0</td>\n",
       "      <td>Hillbillys in a Haunted House (1967)</td>\n",
       "      <td>Comedy</td>\n",
       "    </tr>\n",
       "  </tbody>\n",
       "</table>\n",
       "</div>"
      ],
      "text/plain": [
       "       userId  movieId  rating                                 title  genres\n",
       "58459     424      119     5.0  Hillbillys in a Haunted House (1967)  Comedy"
      ]
     },
     "execution_count": 21,
     "metadata": {},
     "output_type": "execute_result"
    }
   ],
   "source": [
    "sample = df_val.sample()\n",
    "sample"
   ]
  },
  {
   "cell_type": "code",
   "execution_count": 22,
   "metadata": {},
   "outputs": [
    {
     "data": {
      "text/plain": [
       "array([[3.5807264]], dtype=float32)"
      ]
     },
     "execution_count": 22,
     "metadata": {},
     "output_type": "execute_result"
    }
   ],
   "source": [
    "model.predict([sample.userId, sample.movieId])"
   ]
  },
  {
   "cell_type": "markdown",
   "metadata": {},
   "source": [
    "# Exploramos los pesos entrenados"
   ]
  },
  {
   "cell_type": "code",
   "execution_count": 23,
   "metadata": {},
   "outputs": [
    {
     "data": {
      "text/plain": [
       "[<tf.Variable 'embedding_3/embeddings:0' shape=(671, 10) dtype=float32_ref>,\n",
       " <tf.Variable 'embedding_4/embeddings:0' shape=(9066, 10) dtype=float32_ref>,\n",
       " <tf.Variable 'embedding_5/embeddings:0' shape=(671, 1) dtype=float32_ref>,\n",
       " <tf.Variable 'embedding_6/embeddings:0' shape=(9066, 1) dtype=float32_ref>]"
      ]
     },
     "execution_count": 23,
     "metadata": {},
     "output_type": "execute_result"
    }
   ],
   "source": [
    "model.weights"
   ]
  },
  {
   "cell_type": "code",
   "execution_count": 24,
   "metadata": {},
   "outputs": [
    {
     "data": {
      "text/plain": [
       "array([[ 0.03582287, -0.050271  , -0.00519031, ...,  0.00560292,\n",
       "        -0.0393023 ,  0.02632658],\n",
       "       [-0.24352571,  0.04208995, -0.31462237, ..., -0.2141524 ,\n",
       "        -0.38844612, -0.13515079],\n",
       "       [ 0.14063318, -0.19312108,  0.00272839, ...,  0.04481315,\n",
       "        -0.3283794 , -0.08536509],\n",
       "       ...,\n",
       "       [-0.11104282, -0.08576885, -0.08094907, ..., -0.24855807,\n",
       "         0.00529613, -0.09564679],\n",
       "       [-0.05419028, -0.2902171 , -0.11082098, ..., -0.12244812,\n",
       "         0.0058211 , -0.04259878],\n",
       "       [-0.45671928, -0.0556583 , -0.3839873 , ..., -0.485218  ,\n",
       "         0.2974871 , -0.06390581]], dtype=float32)"
      ]
     },
     "execution_count": 24,
     "metadata": {},
     "output_type": "execute_result"
    }
   ],
   "source": [
    "K.eval(model.weights[0])"
   ]
  },
  {
   "cell_type": "code",
   "execution_count": 25,
   "metadata": {},
   "outputs": [
    {
     "data": {
      "text/plain": [
       "((671, 10), (9066, 10), (671, 1), (9066, 1))"
      ]
     },
     "execution_count": 25,
     "metadata": {},
     "output_type": "execute_result"
    }
   ],
   "source": [
    "w_users, w_movies, b_users, b_movies = [K.eval(e) for e in model.weights]\n",
    "w_users.shape, w_movies.shape, b_users.shape, b_movies.shape"
   ]
  },
  {
   "cell_type": "markdown",
   "metadata": {},
   "source": [
    "## Veamos los bias"
   ]
  },
  {
   "cell_type": "code",
   "execution_count": 26,
   "metadata": {},
   "outputs": [
    {
     "data": {
      "text/html": [
       "<div>\n",
       "<style scoped>\n",
       "    .dataframe tbody tr th:only-of-type {\n",
       "        vertical-align: middle;\n",
       "    }\n",
       "\n",
       "    .dataframe tbody tr th {\n",
       "        vertical-align: top;\n",
       "    }\n",
       "\n",
       "    .dataframe thead th {\n",
       "        text-align: right;\n",
       "    }\n",
       "</style>\n",
       "<table border=\"1\" class=\"dataframe\">\n",
       "  <thead>\n",
       "    <tr style=\"text-align: right;\">\n",
       "      <th></th>\n",
       "      <th>userId</th>\n",
       "      <th>movieId</th>\n",
       "      <th>rating</th>\n",
       "      <th>title</th>\n",
       "      <th>genres</th>\n",
       "      <th>movie_bias</th>\n",
       "      <th>user_bias</th>\n",
       "    </tr>\n",
       "  </thead>\n",
       "  <tbody>\n",
       "    <tr>\n",
       "      <th>0</th>\n",
       "      <td>0</td>\n",
       "      <td>0</td>\n",
       "      <td>2.5</td>\n",
       "      <td>Twelve Monkeys (a.k.a. 12 Monkeys) (1995)</td>\n",
       "      <td>Mystery|Sci-Fi|Thriller</td>\n",
       "      <td>0.760138</td>\n",
       "      <td>1.516588</td>\n",
       "    </tr>\n",
       "    <tr>\n",
       "      <th>1</th>\n",
       "      <td>0</td>\n",
       "      <td>1</td>\n",
       "      <td>3.0</td>\n",
       "      <td>Highlander (1986)</td>\n",
       "      <td>Action|Adventure|Fantasy</td>\n",
       "      <td>0.979354</td>\n",
       "      <td>1.516588</td>\n",
       "    </tr>\n",
       "  </tbody>\n",
       "</table>\n",
       "</div>"
      ],
      "text/plain": [
       "   userId  movieId  rating                                      title  \\\n",
       "0       0        0     2.5  Twelve Monkeys (a.k.a. 12 Monkeys) (1995)   \n",
       "1       0        1     3.0                          Highlander (1986)   \n",
       "\n",
       "                     genres  movie_bias  user_bias  \n",
       "0   Mystery|Sci-Fi|Thriller    0.760138   1.516588  \n",
       "1  Action|Adventure|Fantasy    0.979354   1.516588  "
      ]
     },
     "execution_count": 26,
     "metadata": {},
     "output_type": "execute_result"
    }
   ],
   "source": [
    "ratings['movie_bias'] = ratings.movieId.apply(lambda x: b_movies[x,0])\n",
    "ratings['user_bias'] = ratings.userId.apply(lambda x: b_users[x,0])\n",
    "ratings.head(2)"
   ]
  },
  {
   "cell_type": "code",
   "execution_count": 27,
   "metadata": {},
   "outputs": [
    {
     "data": {
      "text/html": [
       "<style  type=\"text/css\" >\n",
       "    #T_c383509c_c06c_11e8_8a5c_cfcf83d4d518row0_col1 {\n",
       "            width:  10em;\n",
       "             height:  80%;\n",
       "            background:  linear-gradient(90deg,#d65f5f 100.0%, transparent 0%);\n",
       "        }    #T_c383509c_c06c_11e8_8a5c_cfcf83d4d518row1_col1 {\n",
       "            width:  10em;\n",
       "             height:  80%;\n",
       "            background:  linear-gradient(90deg,#d65f5f 57.2%, transparent 0%);\n",
       "        }    #T_c383509c_c06c_11e8_8a5c_cfcf83d4d518row2_col1 {\n",
       "            width:  10em;\n",
       "             height:  80%;\n",
       "            background:  linear-gradient(90deg,#d65f5f 40.1%, transparent 0%);\n",
       "        }    #T_c383509c_c06c_11e8_8a5c_cfcf83d4d518row3_col1 {\n",
       "            width:  10em;\n",
       "             height:  80%;\n",
       "            background:  linear-gradient(90deg,#d65f5f 28.3%, transparent 0%);\n",
       "        }    #T_c383509c_c06c_11e8_8a5c_cfcf83d4d518row4_col1 {\n",
       "            width:  10em;\n",
       "             height:  80%;\n",
       "            background:  linear-gradient(90deg,#d65f5f 27.6%, transparent 0%);\n",
       "        }    #T_c383509c_c06c_11e8_8a5c_cfcf83d4d518row5_col1 {\n",
       "            width:  10em;\n",
       "             height:  80%;\n",
       "            background:  linear-gradient(90deg,#d65f5f 21.0%, transparent 0%);\n",
       "        }    #T_c383509c_c06c_11e8_8a5c_cfcf83d4d518row6_col1 {\n",
       "            width:  10em;\n",
       "             height:  80%;\n",
       "            background:  linear-gradient(90deg,#d65f5f 4.0%, transparent 0%);\n",
       "        }    #T_c383509c_c06c_11e8_8a5c_cfcf83d4d518row7_col1 {\n",
       "            width:  10em;\n",
       "             height:  80%;\n",
       "            background:  linear-gradient(90deg,#d65f5f 1.4%, transparent 0%);\n",
       "        }    #T_c383509c_c06c_11e8_8a5c_cfcf83d4d518row8_col1 {\n",
       "            width:  10em;\n",
       "             height:  80%;\n",
       "            background:  linear-gradient(90deg,#d65f5f 1.4%, transparent 0%);\n",
       "        }    #T_c383509c_c06c_11e8_8a5c_cfcf83d4d518row9_col1 {\n",
       "            width:  10em;\n",
       "             height:  80%;\n",
       "        }</style>  \n",
       "<table id=\"T_c383509c_c06c_11e8_8a5c_cfcf83d4d518\" > \n",
       "<thead>    <tr> \n",
       "        <th class=\"blank level0\" ></th> \n",
       "        <th class=\"col_heading level0 col0\" >title</th> \n",
       "        <th class=\"col_heading level0 col1\" >movie_bias</th> \n",
       "    </tr></thead> \n",
       "<tbody>    <tr> \n",
       "        <th id=\"T_c383509c_c06c_11e8_8a5c_cfcf83d4d518level0_row0\" class=\"row_heading level0 row0\" >7532</th> \n",
       "        <td id=\"T_c383509c_c06c_11e8_8a5c_cfcf83d4d518row0_col0\" class=\"data row0 col0\" >That's My Boy (2012)</td> \n",
       "        <td id=\"T_c383509c_c06c_11e8_8a5c_cfcf83d4d518row0_col1\" class=\"data row0 col1\" >1.82682</td> \n",
       "    </tr>    <tr> \n",
       "        <th id=\"T_c383509c_c06c_11e8_8a5c_cfcf83d4d518level0_row1\" class=\"row_heading level0 row1\" >101</th> \n",
       "        <td id=\"T_c383509c_c06c_11e8_8a5c_cfcf83d4d518row1_col0\" class=\"data row1 col0\" >Crow, The (1994)</td> \n",
       "        <td id=\"T_c383509c_c06c_11e8_8a5c_cfcf83d4d518row1_col1\" class=\"data row1 col1\" >1.7358</td> \n",
       "    </tr>    <tr> \n",
       "        <th id=\"T_c383509c_c06c_11e8_8a5c_cfcf83d4d518level0_row2\" class=\"row_heading level0 row2\" >933</th> \n",
       "        <td id=\"T_c383509c_c06c_11e8_8a5c_cfcf83d4d518row2_col0\" class=\"data row2 col0\" >Mother (Madeo) (2009)</td> \n",
       "        <td id=\"T_c383509c_c06c_11e8_8a5c_cfcf83d4d518row2_col1\" class=\"data row2 col1\" >1.69962</td> \n",
       "    </tr>    <tr> \n",
       "        <th id=\"T_c383509c_c06c_11e8_8a5c_cfcf83d4d518level0_row3\" class=\"row_heading level0 row3\" >32439</th> \n",
       "        <td id=\"T_c383509c_c06c_11e8_8a5c_cfcf83d4d518row3_col0\" class=\"data row3 col0\" >Slumdog Millionaire (2008)</td> \n",
       "        <td id=\"T_c383509c_c06c_11e8_8a5c_cfcf83d4d518row3_col1\" class=\"data row3 col1\" >1.67436</td> \n",
       "    </tr>    <tr> \n",
       "        <th id=\"T_c383509c_c06c_11e8_8a5c_cfcf83d4d518level0_row4\" class=\"row_heading level0 row4\" >1599</th> \n",
       "        <td id=\"T_c383509c_c06c_11e8_8a5c_cfcf83d4d518row4_col0\" class=\"data row4 col0\" >Stardom (2000)</td> \n",
       "        <td id=\"T_c383509c_c06c_11e8_8a5c_cfcf83d4d518row4_col1\" class=\"data row4 col1\" >1.67295</td> \n",
       "    </tr>    <tr> \n",
       "        <th id=\"T_c383509c_c06c_11e8_8a5c_cfcf83d4d518level0_row5\" class=\"row_heading level0 row5\" >8036</th> \n",
       "        <td id=\"T_c383509c_c06c_11e8_8a5c_cfcf83d4d518row5_col0\" class=\"data row5 col0\" >Affliction (1997)</td> \n",
       "        <td id=\"T_c383509c_c06c_11e8_8a5c_cfcf83d4d518row5_col1\" class=\"data row5 col1\" >1.65893</td> \n",
       "    </tr>    <tr> \n",
       "        <th id=\"T_c383509c_c06c_11e8_8a5c_cfcf83d4d518level0_row6\" class=\"row_heading level0 row6\" >180</th> \n",
       "        <td id=\"T_c383509c_c06c_11e8_8a5c_cfcf83d4d518row6_col0\" class=\"data row6 col0\" >Swingers (1996)</td> \n",
       "        <td id=\"T_c383509c_c06c_11e8_8a5c_cfcf83d4d518row6_col1\" class=\"data row6 col1\" >1.62275</td> \n",
       "    </tr>    <tr> \n",
       "        <th id=\"T_c383509c_c06c_11e8_8a5c_cfcf83d4d518level0_row7\" class=\"row_heading level0 row7\" >10728</th> \n",
       "        <td id=\"T_c383509c_c06c_11e8_8a5c_cfcf83d4d518row7_col0\" class=\"data row7 col0\" >Stay Tuned (1992)</td> \n",
       "        <td id=\"T_c383509c_c06c_11e8_8a5c_cfcf83d4d518row7_col1\" class=\"data row7 col1\" >1.61725</td> \n",
       "    </tr>    <tr> \n",
       "        <th id=\"T_c383509c_c06c_11e8_8a5c_cfcf83d4d518level0_row8\" class=\"row_heading level0 row8\" >4534</th> \n",
       "        <td id=\"T_c383509c_c06c_11e8_8a5c_cfcf83d4d518row8_col0\" class=\"data row8 col0\" >Dear Frankie (2004)</td> \n",
       "        <td id=\"T_c383509c_c06c_11e8_8a5c_cfcf83d4d518row8_col1\" class=\"data row8 col1\" >1.6172</td> \n",
       "    </tr>    <tr> \n",
       "        <th id=\"T_c383509c_c06c_11e8_8a5c_cfcf83d4d518level0_row9\" class=\"row_heading level0 row9\" >38246</th> \n",
       "        <td id=\"T_c383509c_c06c_11e8_8a5c_cfcf83d4d518row9_col0\" class=\"data row9 col0\" >White Squall (1996)</td> \n",
       "        <td id=\"T_c383509c_c06c_11e8_8a5c_cfcf83d4d518row9_col1\" class=\"data row9 col1\" >1.61431</td> \n",
       "    </tr></tbody> \n",
       "</table> "
      ],
      "text/plain": [
       "<pandas.io.formats.style.Styler at 0x7f0af8f00eb8>"
      ]
     },
     "execution_count": 27,
     "metadata": {},
     "output_type": "execute_result"
    }
   ],
   "source": [
    "# Top bias movies\n",
    "(ratings[['title', 'movie_bias']].drop_duplicates().dropna()\n",
    "                                 .sort_values('movie_bias', ascending=False).head(10).style.bar())"
   ]
  },
  {
   "cell_type": "code",
   "execution_count": 28,
   "metadata": {},
   "outputs": [
    {
     "data": {
      "text/html": [
       "<style  type=\"text/css\" >\n",
       "    #T_c383509d_c06c_11e8_8a5c_cfcf83d4d518row0_col1 {\n",
       "            width:  10em;\n",
       "             height:  80%;\n",
       "        }    #T_c383509d_c06c_11e8_8a5c_cfcf83d4d518row1_col1 {\n",
       "            width:  10em;\n",
       "             height:  80%;\n",
       "            background:  linear-gradient(90deg,#d65f5f 18.3%, transparent 0%);\n",
       "        }    #T_c383509d_c06c_11e8_8a5c_cfcf83d4d518row2_col1 {\n",
       "            width:  10em;\n",
       "             height:  80%;\n",
       "            background:  linear-gradient(90deg,#d65f5f 30.0%, transparent 0%);\n",
       "        }    #T_c383509d_c06c_11e8_8a5c_cfcf83d4d518row3_col1 {\n",
       "            width:  10em;\n",
       "             height:  80%;\n",
       "            background:  linear-gradient(90deg,#d65f5f 40.4%, transparent 0%);\n",
       "        }    #T_c383509d_c06c_11e8_8a5c_cfcf83d4d518row4_col1 {\n",
       "            width:  10em;\n",
       "             height:  80%;\n",
       "            background:  linear-gradient(90deg,#d65f5f 55.8%, transparent 0%);\n",
       "        }    #T_c383509d_c06c_11e8_8a5c_cfcf83d4d518row5_col1 {\n",
       "            width:  10em;\n",
       "             height:  80%;\n",
       "            background:  linear-gradient(90deg,#d65f5f 78.6%, transparent 0%);\n",
       "        }    #T_c383509d_c06c_11e8_8a5c_cfcf83d4d518row6_col1 {\n",
       "            width:  10em;\n",
       "             height:  80%;\n",
       "            background:  linear-gradient(90deg,#d65f5f 78.6%, transparent 0%);\n",
       "        }    #T_c383509d_c06c_11e8_8a5c_cfcf83d4d518row7_col1 {\n",
       "            width:  10em;\n",
       "             height:  80%;\n",
       "            background:  linear-gradient(90deg,#d65f5f 97.5%, transparent 0%);\n",
       "        }    #T_c383509d_c06c_11e8_8a5c_cfcf83d4d518row8_col1 {\n",
       "            width:  10em;\n",
       "             height:  80%;\n",
       "            background:  linear-gradient(90deg,#d65f5f 99.2%, transparent 0%);\n",
       "        }    #T_c383509d_c06c_11e8_8a5c_cfcf83d4d518row9_col1 {\n",
       "            width:  10em;\n",
       "             height:  80%;\n",
       "            background:  linear-gradient(90deg,#d65f5f 100.0%, transparent 0%);\n",
       "        }</style>  \n",
       "<table id=\"T_c383509d_c06c_11e8_8a5c_cfcf83d4d518\" > \n",
       "<thead>    <tr> \n",
       "        <th class=\"blank level0\" ></th> \n",
       "        <th class=\"col_heading level0 col0\" >title</th> \n",
       "        <th class=\"col_heading level0 col1\" >movie_bias</th> \n",
       "    </tr></thead> \n",
       "<tbody>    <tr> \n",
       "        <th id=\"T_c383509d_c06c_11e8_8a5c_cfcf83d4d518level0_row0\" class=\"row_heading level0 row0\" >15802</th> \n",
       "        <td id=\"T_c383509d_c06c_11e8_8a5c_cfcf83d4d518row0_col0\" class=\"data row0 col0\" >The Falcon and the Snowman (1985)</td> \n",
       "        <td id=\"T_c383509d_c06c_11e8_8a5c_cfcf83d4d518row0_col1\" class=\"data row0 col1\" >-1.49471</td> \n",
       "    </tr>    <tr> \n",
       "        <th id=\"T_c383509d_c06c_11e8_8a5c_cfcf83d4d518level0_row1\" class=\"row_heading level0 row1\" >21734</th> \n",
       "        <td id=\"T_c383509d_c06c_11e8_8a5c_cfcf83d4d518row1_col0\" class=\"data row1 col0\" >Formula 51 (2001)</td> \n",
       "        <td id=\"T_c383509d_c06c_11e8_8a5c_cfcf83d4d518row1_col1\" class=\"data row1 col1\" >-1.44211</td> \n",
       "    </tr>    <tr> \n",
       "        <th id=\"T_c383509d_c06c_11e8_8a5c_cfcf83d4d518level0_row2\" class=\"row_heading level0 row2\" >10803</th> \n",
       "        <td id=\"T_c383509d_c06c_11e8_8a5c_cfcf83d4d518row2_col0\" class=\"data row2 col0\" >Man from Snowy River, The (1982)</td> \n",
       "        <td id=\"T_c383509d_c06c_11e8_8a5c_cfcf83d4d518row2_col1\" class=\"data row2 col1\" >-1.4086</td> \n",
       "    </tr>    <tr> \n",
       "        <th id=\"T_c383509d_c06c_11e8_8a5c_cfcf83d4d518level0_row3\" class=\"row_heading level0 row3\" >93373</th> \n",
       "        <td id=\"T_c383509d_c06c_11e8_8a5c_cfcf83d4d518row3_col0\" class=\"data row3 col0\" >Believer, The (2001)</td> \n",
       "        <td id=\"T_c383509d_c06c_11e8_8a5c_cfcf83d4d518row3_col1\" class=\"data row3 col1\" >-1.37881</td> \n",
       "    </tr>    <tr> \n",
       "        <th id=\"T_c383509d_c06c_11e8_8a5c_cfcf83d4d518level0_row4\" class=\"row_heading level0 row4\" >11067</th> \n",
       "        <td id=\"T_c383509d_c06c_11e8_8a5c_cfcf83d4d518row4_col0\" class=\"data row4 col0\" >Santa Clause 3: The Escape Clause, The (2006)</td> \n",
       "        <td id=\"T_c383509d_c06c_11e8_8a5c_cfcf83d4d518row4_col1\" class=\"data row4 col1\" >-1.33476</td> \n",
       "    </tr>    <tr> \n",
       "        <th id=\"T_c383509d_c06c_11e8_8a5c_cfcf83d4d518level0_row5\" class=\"row_heading level0 row5\" >33093</th> \n",
       "        <td id=\"T_c383509d_c06c_11e8_8a5c_cfcf83d4d518row5_col0\" class=\"data row5 col0\" >Life of Emile Zola, The (1937)</td> \n",
       "        <td id=\"T_c383509d_c06c_11e8_8a5c_cfcf83d4d518row5_col1\" class=\"data row5 col1\" >-1.26925</td> \n",
       "    </tr>    <tr> \n",
       "        <th id=\"T_c383509d_c06c_11e8_8a5c_cfcf83d4d518level0_row6\" class=\"row_heading level0 row6\" >21514</th> \n",
       "        <td id=\"T_c383509d_c06c_11e8_8a5c_cfcf83d4d518row6_col0\" class=\"data row6 col0\" >Sword in the Stone, The (1963)</td> \n",
       "        <td id=\"T_c383509d_c06c_11e8_8a5c_cfcf83d4d518row6_col1\" class=\"data row6 col1\" >-1.26923</td> \n",
       "    </tr>    <tr> \n",
       "        <th id=\"T_c383509d_c06c_11e8_8a5c_cfcf83d4d518level0_row7\" class=\"row_heading level0 row7\" >7022</th> \n",
       "        <td id=\"T_c383509d_c06c_11e8_8a5c_cfcf83d4d518row7_col0\" class=\"data row7 col0\" >Car Wash (1976)</td> \n",
       "        <td id=\"T_c383509d_c06c_11e8_8a5c_cfcf83d4d518row7_col1\" class=\"data row7 col1\" >-1.21506</td> \n",
       "    </tr>    <tr> \n",
       "        <th id=\"T_c383509d_c06c_11e8_8a5c_cfcf83d4d518level0_row8\" class=\"row_heading level0 row8\" >31701</th> \n",
       "        <td id=\"T_c383509d_c06c_11e8_8a5c_cfcf83d4d518row8_col0\" class=\"data row8 col0\" >Scout, The (1994)</td> \n",
       "        <td id=\"T_c383509d_c06c_11e8_8a5c_cfcf83d4d518row8_col1\" class=\"data row8 col1\" >-1.21015</td> \n",
       "    </tr>    <tr> \n",
       "        <th id=\"T_c383509d_c06c_11e8_8a5c_cfcf83d4d518level0_row9\" class=\"row_heading level0 row9\" >56237</th> \n",
       "        <td id=\"T_c383509d_c06c_11e8_8a5c_cfcf83d4d518row9_col0\" class=\"data row9 col0\" >Lord of War (2005)</td> \n",
       "        <td id=\"T_c383509d_c06c_11e8_8a5c_cfcf83d4d518row9_col1\" class=\"data row9 col1\" >-1.20797</td> \n",
       "    </tr></tbody> \n",
       "</table> "
      ],
      "text/plain": [
       "<pandas.io.formats.style.Styler at 0x7f0af8f07588>"
      ]
     },
     "execution_count": 28,
     "metadata": {},
     "output_type": "execute_result"
    }
   ],
   "source": [
    "# Bottom bias movies\n",
    "(ratings[['title', 'movie_bias']].drop_duplicates().dropna()\n",
    "                                 .sort_values('movie_bias', ascending=True).head(10).style.bar())"
   ]
  },
  {
   "cell_type": "markdown",
   "metadata": {},
   "source": [
    "# PCA"
   ]
  },
  {
   "cell_type": "markdown",
   "metadata": {},
   "source": [
    "En esta seccion vamos a usar PCA para reducir las dimensiones de los embeddings generados. Luego podemos usar estos factores para buscar relaciones en nuestra data."
   ]
  },
  {
   "cell_type": "code",
   "execution_count": 29,
   "metadata": {},
   "outputs": [],
   "source": [
    "from sklearn.decomposition import PCA\n",
    "\n",
    "pca = PCA()\n",
    "pca_movies = pca.fit_transform(w_movies)"
   ]
  },
  {
   "cell_type": "code",
   "execution_count": 30,
   "metadata": {},
   "outputs": [
    {
     "data": {
      "text/html": [
       "<div>\n",
       "<style scoped>\n",
       "    .dataframe tbody tr th:only-of-type {\n",
       "        vertical-align: middle;\n",
       "    }\n",
       "\n",
       "    .dataframe tbody tr th {\n",
       "        vertical-align: top;\n",
       "    }\n",
       "\n",
       "    .dataframe thead th {\n",
       "        text-align: right;\n",
       "    }\n",
       "</style>\n",
       "<table border=\"1\" class=\"dataframe\">\n",
       "  <thead>\n",
       "    <tr style=\"text-align: right;\">\n",
       "      <th></th>\n",
       "      <th>userId</th>\n",
       "      <th>movieId</th>\n",
       "      <th>rating</th>\n",
       "      <th>title</th>\n",
       "      <th>genres</th>\n",
       "      <th>movie_bias</th>\n",
       "      <th>user_bias</th>\n",
       "      <th>movie_pca0</th>\n",
       "      <th>movie_pca1</th>\n",
       "      <th>movie_pca2</th>\n",
       "    </tr>\n",
       "  </thead>\n",
       "  <tbody>\n",
       "    <tr>\n",
       "      <th>0</th>\n",
       "      <td>0</td>\n",
       "      <td>0</td>\n",
       "      <td>2.5</td>\n",
       "      <td>Twelve Monkeys (a.k.a. 12 Monkeys) (1995)</td>\n",
       "      <td>Mystery|Sci-Fi|Thriller</td>\n",
       "      <td>0.760138</td>\n",
       "      <td>1.516588</td>\n",
       "      <td>-0.024320</td>\n",
       "      <td>0.292627</td>\n",
       "      <td>0.051036</td>\n",
       "    </tr>\n",
       "    <tr>\n",
       "      <th>1</th>\n",
       "      <td>0</td>\n",
       "      <td>1</td>\n",
       "      <td>3.0</td>\n",
       "      <td>Highlander (1986)</td>\n",
       "      <td>Action|Adventure|Fantasy</td>\n",
       "      <td>0.979354</td>\n",
       "      <td>1.516588</td>\n",
       "      <td>0.199684</td>\n",
       "      <td>-0.245807</td>\n",
       "      <td>0.012303</td>\n",
       "    </tr>\n",
       "  </tbody>\n",
       "</table>\n",
       "</div>"
      ],
      "text/plain": [
       "   userId  movieId  rating                                      title  \\\n",
       "0       0        0     2.5  Twelve Monkeys (a.k.a. 12 Monkeys) (1995)   \n",
       "1       0        1     3.0                          Highlander (1986)   \n",
       "\n",
       "                     genres  movie_bias  user_bias  movie_pca0  movie_pca1  \\\n",
       "0   Mystery|Sci-Fi|Thriller    0.760138   1.516588   -0.024320    0.292627   \n",
       "1  Action|Adventure|Fantasy    0.979354   1.516588    0.199684   -0.245807   \n",
       "\n",
       "   movie_pca2  \n",
       "0    0.051036  \n",
       "1    0.012303  "
      ]
     },
     "execution_count": 30,
     "metadata": {},
     "output_type": "execute_result"
    }
   ],
   "source": [
    "ratings['movie_pca0'] = ratings.movieId.apply(lambda x: pca_movies[x,0])\n",
    "ratings['movie_pca1'] = ratings.movieId.apply(lambda x: pca_movies[x,1])\n",
    "ratings['movie_pca2'] = ratings.movieId.apply(lambda x: pca_movies[x,2])\n",
    "ratings.head(2)"
   ]
  },
  {
   "cell_type": "code",
   "execution_count": 31,
   "metadata": {},
   "outputs": [
    {
     "data": {
      "text/html": [
       "<style  type=\"text/css\" >\n",
       "    #T_c383509e_c06c_11e8_8a5c_cfcf83d4d518row0_col1 {\n",
       "            width:  10em;\n",
       "             height:  80%;\n",
       "            background:  linear-gradient(90deg,#d65f5f 100.0%, transparent 0%);\n",
       "        }    #T_c383509e_c06c_11e8_8a5c_cfcf83d4d518row1_col1 {\n",
       "            width:  10em;\n",
       "             height:  80%;\n",
       "            background:  linear-gradient(90deg,#d65f5f 73.6%, transparent 0%);\n",
       "        }    #T_c383509e_c06c_11e8_8a5c_cfcf83d4d518row2_col1 {\n",
       "            width:  10em;\n",
       "             height:  80%;\n",
       "            background:  linear-gradient(90deg,#d65f5f 43.5%, transparent 0%);\n",
       "        }    #T_c383509e_c06c_11e8_8a5c_cfcf83d4d518row3_col1 {\n",
       "            width:  10em;\n",
       "             height:  80%;\n",
       "            background:  linear-gradient(90deg,#d65f5f 42.0%, transparent 0%);\n",
       "        }    #T_c383509e_c06c_11e8_8a5c_cfcf83d4d518row4_col1 {\n",
       "            width:  10em;\n",
       "             height:  80%;\n",
       "            background:  linear-gradient(90deg,#d65f5f 26.1%, transparent 0%);\n",
       "        }    #T_c383509e_c06c_11e8_8a5c_cfcf83d4d518row5_col1 {\n",
       "            width:  10em;\n",
       "             height:  80%;\n",
       "            background:  linear-gradient(90deg,#d65f5f 22.8%, transparent 0%);\n",
       "        }    #T_c383509e_c06c_11e8_8a5c_cfcf83d4d518row6_col1 {\n",
       "            width:  10em;\n",
       "             height:  80%;\n",
       "            background:  linear-gradient(90deg,#d65f5f 12.3%, transparent 0%);\n",
       "        }    #T_c383509e_c06c_11e8_8a5c_cfcf83d4d518row7_col1 {\n",
       "            width:  10em;\n",
       "             height:  80%;\n",
       "            background:  linear-gradient(90deg,#d65f5f 11.0%, transparent 0%);\n",
       "        }    #T_c383509e_c06c_11e8_8a5c_cfcf83d4d518row8_col1 {\n",
       "            width:  10em;\n",
       "             height:  80%;\n",
       "            background:  linear-gradient(90deg,#d65f5f 6.7%, transparent 0%);\n",
       "        }    #T_c383509e_c06c_11e8_8a5c_cfcf83d4d518row9_col1 {\n",
       "            width:  10em;\n",
       "             height:  80%;\n",
       "        }</style>  \n",
       "<table id=\"T_c383509e_c06c_11e8_8a5c_cfcf83d4d518\" > \n",
       "<thead>    <tr> \n",
       "        <th class=\"blank level0\" ></th> \n",
       "        <th class=\"col_heading level0 col0\" >title</th> \n",
       "        <th class=\"col_heading level0 col1\" >movie_pca0</th> \n",
       "        <th class=\"col_heading level0 col2\" >genres</th> \n",
       "    </tr></thead> \n",
       "<tbody>    <tr> \n",
       "        <th id=\"T_c383509e_c06c_11e8_8a5c_cfcf83d4d518level0_row0\" class=\"row_heading level0 row0\" >404</th> \n",
       "        <td id=\"T_c383509e_c06c_11e8_8a5c_cfcf83d4d518row0_col0\" class=\"data row0 col0\" >Titan A.E. (2000)</td> \n",
       "        <td id=\"T_c383509e_c06c_11e8_8a5c_cfcf83d4d518row0_col1\" class=\"data row0 col1\" >0.940812</td> \n",
       "        <td id=\"T_c383509e_c06c_11e8_8a5c_cfcf83d4d518row0_col2\" class=\"data row0 col2\" >Action|Adventure|Animation|Children|Sci-Fi</td> \n",
       "    </tr>    <tr> \n",
       "        <th id=\"T_c383509e_c06c_11e8_8a5c_cfcf83d4d518level0_row1\" class=\"row_heading level0 row1\" >95</th> \n",
       "        <td id=\"T_c383509e_c06c_11e8_8a5c_cfcf83d4d518row1_col0\" class=\"data row1 col0\" >Singin' in the Rain (1952)</td> \n",
       "        <td id=\"T_c383509e_c06c_11e8_8a5c_cfcf83d4d518row1_col1\" class=\"data row1 col1\" >0.89685</td> \n",
       "        <td id=\"T_c383509e_c06c_11e8_8a5c_cfcf83d4d518row1_col2\" class=\"data row1 col2\" >Comedy|Musical|Romance</td> \n",
       "    </tr>    <tr> \n",
       "        <th id=\"T_c383509e_c06c_11e8_8a5c_cfcf83d4d518level0_row2\" class=\"row_heading level0 row2\" >19606</th> \n",
       "        <td id=\"T_c383509e_c06c_11e8_8a5c_cfcf83d4d518row2_col0\" class=\"data row2 col0\" >Teenage Mutant Ninja Turtles III (1993)</td> \n",
       "        <td id=\"T_c383509e_c06c_11e8_8a5c_cfcf83d4d518row2_col1\" class=\"data row2 col1\" >0.846496</td> \n",
       "        <td id=\"T_c383509e_c06c_11e8_8a5c_cfcf83d4d518row2_col2\" class=\"data row2 col2\" >Action|Adventure|Children|Comedy|Fantasy</td> \n",
       "    </tr>    <tr> \n",
       "        <th id=\"T_c383509e_c06c_11e8_8a5c_cfcf83d4d518level0_row3\" class=\"row_heading level0 row3\" >544</th> \n",
       "        <td id=\"T_c383509e_c06c_11e8_8a5c_cfcf83d4d518row3_col0\" class=\"data row3 col0\" >Mina Tannenbaum (1994)</td> \n",
       "        <td id=\"T_c383509e_c06c_11e8_8a5c_cfcf83d4d518row3_col1\" class=\"data row3 col1\" >0.844102</td> \n",
       "        <td id=\"T_c383509e_c06c_11e8_8a5c_cfcf83d4d518row3_col2\" class=\"data row3 col2\" >Drama</td> \n",
       "    </tr>    <tr> \n",
       "        <th id=\"T_c383509e_c06c_11e8_8a5c_cfcf83d4d518level0_row4\" class=\"row_heading level0 row4\" >678</th> \n",
       "        <td id=\"T_c383509e_c06c_11e8_8a5c_cfcf83d4d518row4_col0\" class=\"data row4 col0\" >Cleaner (2007)</td> \n",
       "        <td id=\"T_c383509e_c06c_11e8_8a5c_cfcf83d4d518row4_col1\" class=\"data row4 col1\" >0.817532</td> \n",
       "        <td id=\"T_c383509e_c06c_11e8_8a5c_cfcf83d4d518row4_col2\" class=\"data row4 col2\" >Crime|Thriller</td> \n",
       "    </tr>    <tr> \n",
       "        <th id=\"T_c383509e_c06c_11e8_8a5c_cfcf83d4d518level0_row5\" class=\"row_heading level0 row5\" >710</th> \n",
       "        <td id=\"T_c383509e_c06c_11e8_8a5c_cfcf83d4d518row5_col0\" class=\"data row5 col0\" >Halfmoon (Paul Bowles - Halbmond) (1995)</td> \n",
       "        <td id=\"T_c383509e_c06c_11e8_8a5c_cfcf83d4d518row5_col1\" class=\"data row5 col1\" >0.812078</td> \n",
       "        <td id=\"T_c383509e_c06c_11e8_8a5c_cfcf83d4d518row5_col2\" class=\"data row5 col2\" >Drama</td> \n",
       "    </tr>    <tr> \n",
       "        <th id=\"T_c383509e_c06c_11e8_8a5c_cfcf83d4d518level0_row6\" class=\"row_heading level0 row6\" >541</th> \n",
       "        <td id=\"T_c383509e_c06c_11e8_8a5c_cfcf83d4d518row6_col0\" class=\"data row6 col0\" >2001: A Space Odyssey (1968)</td> \n",
       "        <td id=\"T_c383509e_c06c_11e8_8a5c_cfcf83d4d518row6_col1\" class=\"data row6 col1\" >0.794573</td> \n",
       "        <td id=\"T_c383509e_c06c_11e8_8a5c_cfcf83d4d518row6_col2\" class=\"data row6 col2\" >Adventure|Drama|Sci-Fi</td> \n",
       "    </tr>    <tr> \n",
       "        <th id=\"T_c383509e_c06c_11e8_8a5c_cfcf83d4d518level0_row7\" class=\"row_heading level0 row7\" >206</th> \n",
       "        <td id=\"T_c383509e_c06c_11e8_8a5c_cfcf83d4d518row7_col0\" class=\"data row7 col0\" >Double Team (1997)</td> \n",
       "        <td id=\"T_c383509e_c06c_11e8_8a5c_cfcf83d4d518row7_col1\" class=\"data row7 col1\" >0.792339</td> \n",
       "        <td id=\"T_c383509e_c06c_11e8_8a5c_cfcf83d4d518row7_col2\" class=\"data row7 col2\" >Action</td> \n",
       "    </tr>    <tr> \n",
       "        <th id=\"T_c383509e_c06c_11e8_8a5c_cfcf83d4d518level0_row8\" class=\"row_heading level0 row8\" >24</th> \n",
       "        <td id=\"T_c383509e_c06c_11e8_8a5c_cfcf83d4d518row8_col0\" class=\"data row8 col0\" >Lamerica (1994)</td> \n",
       "        <td id=\"T_c383509e_c06c_11e8_8a5c_cfcf83d4d518row8_col1\" class=\"data row8 col1\" >0.785179</td> \n",
       "        <td id=\"T_c383509e_c06c_11e8_8a5c_cfcf83d4d518row8_col2\" class=\"data row8 col2\" >Adventure|Drama</td> \n",
       "    </tr>    <tr> \n",
       "        <th id=\"T_c383509e_c06c_11e8_8a5c_cfcf83d4d518level0_row9\" class=\"row_heading level0 row9\" >49</th> \n",
       "        <td id=\"T_c383509e_c06c_11e8_8a5c_cfcf83d4d518row9_col0\" class=\"data row9 col0\" >Tom & Viv (1994)</td> \n",
       "        <td id=\"T_c383509e_c06c_11e8_8a5c_cfcf83d4d518row9_col1\" class=\"data row9 col1\" >0.774</td> \n",
       "        <td id=\"T_c383509e_c06c_11e8_8a5c_cfcf83d4d518row9_col2\" class=\"data row9 col2\" >Drama</td> \n",
       "    </tr></tbody> \n",
       "</table> "
      ],
      "text/plain": [
       "<pandas.io.formats.style.Styler at 0x7f0af81ae6a0>"
      ]
     },
     "execution_count": 31,
     "metadata": {},
     "output_type": "execute_result"
    }
   ],
   "source": [
    "(ratings[['title', 'movie_pca0', 'genres']].drop_duplicates()\n",
    "                                           .sort_values('movie_pca0', ascending=False)\n",
    "                                           .head(10).style.bar())"
   ]
  },
  {
   "cell_type": "code",
   "execution_count": 32,
   "metadata": {},
   "outputs": [
    {
     "data": {
      "image/png": "[encoded data removed]",
      "text/plain": [
       "<Figure size 1008x432 with 1 Axes>"
      ]
     },
     "metadata": {
      "needs_background": "light"
     },
     "output_type": "display_data"
    }
   ],
   "source": [
    "n = 25\n",
    "\n",
    "sample = ratings.dropna().sample(n)\n",
    "\n",
    "plt.figure(figsize=(14, 6))\n",
    "plt.scatter(sample.movie_pca0, sample.movie_pca1)\n",
    "\n",
    "for i,s in sample.iterrows():\n",
    "    plt.text(s.movie_pca0, s.movie_pca1, s.title, color=np.random.rand(3)*0.7, fontsize=14)\n",
    "\n",
    "plt.show()"
   ]
  },
  {
   "cell_type": "markdown",
   "metadata": {},
   "source": [
    "# Ahora intentemos una red neuronal"
   ]
  },
  {
   "cell_type": "code",
   "execution_count": 33,
   "metadata": {},
   "outputs": [],
   "source": [
    "from keras.models import Model\n",
    "from keras.layers import Dense, Embedding, Input, Flatten, concatenate, Dropout, BatchNormalization\n",
    "from keras.optimizers import Adam\n",
    "from keras.regularizers import l2\n",
    "import keras.backend as K"
   ]
  },
  {
   "cell_type": "code",
   "execution_count": 34,
   "metadata": {},
   "outputs": [],
   "source": [
    "x_train, x_val = [df_train.userId, df_train.movieId], [df_val.userId, df_val.movieId]\n",
    "y_train, y_val = df_train.rating, df_val.rating"
   ]
  },
  {
   "cell_type": "code",
   "execution_count": 35,
   "metadata": {},
   "outputs": [
    {
     "name": "stdout",
     "output_type": "stream",
     "text": [
      "__________________________________________________________________________________________________\n",
      "Layer (type)                    Output Shape         Param #     Connected to                     \n",
      "==================================================================================================\n",
      "user_in (InputLayer)            (None, 1)            0                                            \n",
      "__________________________________________________________________________________________________\n",
      "movie_in (InputLayer)           (None, 1)            0                                            \n",
      "__________________________________________________________________________________________________\n",
      "embedding_7 (Embedding)         (None, 1, 25)        16775       user_in[0][0]                    \n",
      "__________________________________________________________________________________________________\n",
      "embedding_8 (Embedding)         (None, 1, 25)        226650      movie_in[0][0]                   \n",
      "__________________________________________________________________________________________________\n",
      "concatenate_1 (Concatenate)     (None, 1, 50)        0           embedding_7[0][0]                \n",
      "                                                                 embedding_8[0][0]                \n",
      "__________________________________________________________________________________________________\n",
      "flatten_5 (Flatten)             (None, 50)           0           concatenate_1[0][0]              \n",
      "__________________________________________________________________________________________________\n",
      "dropout_1 (Dropout)             (None, 50)           0           flatten_5[0][0]                  \n",
      "__________________________________________________________________________________________________\n",
      "dense_1 (Dense)                 (None, 50)           2550        dropout_1[0][0]                  \n",
      "__________________________________________________________________________________________________\n",
      "batch_normalization_1 (BatchNor (None, 50)           200         dense_1[0][0]                    \n",
      "__________________________________________________________________________________________________\n",
      "dropout_2 (Dropout)             (None, 50)           0           batch_normalization_1[0][0]      \n",
      "__________________________________________________________________________________________________\n",
      "dense_2 (Dense)                 (None, 50)           2550        dropout_2[0][0]                  \n",
      "__________________________________________________________________________________________________\n",
      "batch_normalization_2 (BatchNor (None, 50)           200         dense_2[0][0]                    \n",
      "__________________________________________________________________________________________________\n",
      "dropout_3 (Dropout)             (None, 50)           0           batch_normalization_2[0][0]      \n",
      "__________________________________________________________________________________________________\n",
      "dense_3 (Dense)                 (None, 100)          5100        dropout_3[0][0]                  \n",
      "__________________________________________________________________________________________________\n",
      "batch_normalization_3 (BatchNor (None, 100)          400         dense_3[0][0]                    \n",
      "__________________________________________________________________________________________________\n",
      "dropout_4 (Dropout)             (None, 100)          0           batch_normalization_3[0][0]      \n",
      "__________________________________________________________________________________________________\n",
      "dense_4 (Dense)                 (None, 1)            101         dropout_4[0][0]                  \n",
      "==================================================================================================\n",
      "Total params: 254,526\n",
      "Trainable params: 254,126\n",
      "Non-trainable params: 400\n",
      "__________________________________________________________________________________________________\n"
     ]
    }
   ],
   "source": [
    "bs = 128\n",
    "n_factors = 25\n",
    "lr = 0.001\n",
    "\n",
    "user_in = Input(shape=(1,), dtype='int64', name='user_in')\n",
    "u = Embedding(n_users, n_factors, embeddings_regularizer=l2(1e-4))(user_in)\n",
    "\n",
    "movie_in = Input(shape=(1,), dtype='int64', name='movie_in')\n",
    "m = Embedding(n_movies, n_factors, embeddings_regularizer=l2(1e-4))(movie_in)\n",
    "\n",
    "# Juntamos los 2 embeddings, esta vez concatenandolos\n",
    "m_out = concatenate([u, m])\n",
    "m_out = Flatten()(m_out)\n",
    "m_out = Dropout(0.05)(m_out)\n",
    "\n",
    "# Definimos las capas de la red\n",
    "layers = [50, 50, 100]\n",
    "for l in layers:\n",
    "    m_out = Dense(l, activation='relu', kernel_initializer='he_uniform')(m_out)\n",
    "    m_out = BatchNormalization()(m_out)\n",
    "    m_out = Dropout(0.2)(m_out)\n",
    "\n",
    "m_out = Dense(1, activation='sigmoid')(m_out)\n",
    "\n",
    "model = Model(inputs=[user_in, movie_in], outputs=m_out)\n",
    "model.compile(Adam(lr), loss='mse')\n",
    "model.summary()"
   ]
  },
  {
   "cell_type": "code",
   "execution_count": 36,
   "metadata": {},
   "outputs": [
    {
     "name": "stdout",
     "output_type": "stream",
     "text": [
      "Train on 80003 samples, validate on 20001 samples\n",
      "Epoch 1/5\n",
      "80003/80003 [==============================] - 6s 79us/step - loss: 0.0582 - val_loss: 0.0417\n",
      "Epoch 2/5\n",
      "80003/80003 [==============================] - 5s 67us/step - loss: 0.0409 - val_loss: 0.0375\n",
      "Epoch 3/5\n",
      "80003/80003 [==============================] - 5s 67us/step - loss: 0.0365 - val_loss: 0.0360\n",
      "Epoch 4/5\n",
      "80003/80003 [==============================] - 5s 67us/step - loss: 0.0346 - val_loss: 0.0355\n",
      "Epoch 5/5\n",
      "80003/80003 [==============================] - 5s 68us/step - loss: 0.0341 - val_loss: 0.0357\n"
     ]
    }
   ],
   "source": [
    "log1 = model.fit(x_train, y_train/5.1, bs, epochs=5, validation_data=[x_val, y_val/5.1])"
   ]
  },
  {
   "cell_type": "code",
   "execution_count": 37,
   "metadata": {},
   "outputs": [
    {
     "name": "stdout",
     "output_type": "stream",
     "text": [
      "Train on 80003 samples, validate on 20001 samples\n",
      "Epoch 1/5\n",
      "80003/80003 [==============================] - 5s 67us/step - loss: 0.0306 - val_loss: 0.0348\n",
      "Epoch 2/5\n",
      "80003/80003 [==============================] - 5s 68us/step - loss: 0.0291 - val_loss: 0.0343\n",
      "Epoch 3/5\n",
      "80003/80003 [==============================] - 6s 75us/step - loss: 0.0281 - val_loss: 0.0339\n",
      "Epoch 4/5\n",
      "80003/80003 [==============================] - 6s 75us/step - loss: 0.0271 - val_loss: 0.0338\n",
      "Epoch 5/5\n",
      "80003/80003 [==============================] - 6s 69us/step - loss: 0.0265 - val_loss: 0.0338\n"
     ]
    }
   ],
   "source": [
    "# Reducimos el learning rate\n",
    "K.eval(model.optimizer.lr.assign(lr/10))\n",
    "\n",
    "log2 = model.fit(x_train, y_train/5.1, bs, epochs=5, validation_data=[x_val, y_val/5.1])"
   ]
  },
  {
   "cell_type": "code",
   "execution_count": 38,
   "metadata": {},
   "outputs": [
    {
     "data": {
      "image/png": "[encoded data removed]",
      "text/plain": [
       "<Figure size 432x288 with 1 Axes>"
      ]
     },
     "metadata": {
      "needs_background": "light"
     },
     "output_type": "display_data"
    }
   ],
   "source": [
    "show_results(log1, log2)"
   ]
  },
  {
   "cell_type": "code",
   "execution_count": 39,
   "metadata": {},
   "outputs": [
    {
     "data": {
      "text/plain": [
       "0.7961829097504022"
      ]
     },
     "execution_count": 39,
     "metadata": {},
     "output_type": "execute_result"
    }
   ],
   "source": [
    "from sklearn.metrics import mean_squared_error\n",
    "preds = model.predict(x_val)[:,0]*5.1\n",
    "mean_squared_error(y_val, preds)"
   ]
  },
  {
   "cell_type": "code",
   "execution_count": 40,
   "metadata": {},
   "outputs": [
    {
     "data": {
      "text/html": [
       "<div>\n",
       "<style scoped>\n",
       "    .dataframe tbody tr th:only-of-type {\n",
       "        vertical-align: middle;\n",
       "    }\n",
       "\n",
       "    .dataframe tbody tr th {\n",
       "        vertical-align: top;\n",
       "    }\n",
       "\n",
       "    .dataframe thead th {\n",
       "        text-align: right;\n",
       "    }\n",
       "</style>\n",
       "<table border=\"1\" class=\"dataframe\">\n",
       "  <thead>\n",
       "    <tr style=\"text-align: right;\">\n",
       "      <th></th>\n",
       "      <th>userId</th>\n",
       "      <th>movieId</th>\n",
       "      <th>rating</th>\n",
       "      <th>title</th>\n",
       "      <th>genres</th>\n",
       "      <th>pred</th>\n",
       "    </tr>\n",
       "  </thead>\n",
       "  <tbody>\n",
       "    <tr>\n",
       "      <th>80939</th>\n",
       "      <td>547</td>\n",
       "      <td>713</td>\n",
       "      <td>3.0</td>\n",
       "      <td>Hunchback of Notre Dame, The (1996)</td>\n",
       "      <td>Animation|Children|Drama|Musical|Romance</td>\n",
       "      <td>3.160353</td>\n",
       "    </tr>\n",
       "    <tr>\n",
       "      <th>14727</th>\n",
       "      <td>94</td>\n",
       "      <td>1040</td>\n",
       "      <td>4.0</td>\n",
       "      <td>Beach Blanket Bingo (1965)</td>\n",
       "      <td>Comedy|Musical</td>\n",
       "      <td>4.036552</td>\n",
       "    </tr>\n",
       "    <tr>\n",
       "      <th>53477</th>\n",
       "      <td>386</td>\n",
       "      <td>2548</td>\n",
       "      <td>5.0</td>\n",
       "      <td>Body Parts (1991)</td>\n",
       "      <td>Horror|Thriller</td>\n",
       "      <td>4.043419</td>\n",
       "    </tr>\n",
       "    <tr>\n",
       "      <th>17832</th>\n",
       "      <td>118</td>\n",
       "      <td>165</td>\n",
       "      <td>3.0</td>\n",
       "      <td>Akira (1988)</td>\n",
       "      <td>Action|Adventure|Animation|Sci-Fi</td>\n",
       "      <td>3.811961</td>\n",
       "    </tr>\n",
       "    <tr>\n",
       "      <th>28488</th>\n",
       "      <td>211</td>\n",
       "      <td>3596</td>\n",
       "      <td>3.0</td>\n",
       "      <td>Cold Comfort Farm (1995)</td>\n",
       "      <td>Comedy</td>\n",
       "      <td>3.045798</td>\n",
       "    </tr>\n",
       "  </tbody>\n",
       "</table>\n",
       "</div>"
      ],
      "text/plain": [
       "       userId  movieId  rating                                title  \\\n",
       "80939     547      713     3.0  Hunchback of Notre Dame, The (1996)   \n",
       "14727      94     1040     4.0           Beach Blanket Bingo (1965)   \n",
       "53477     386     2548     5.0                    Body Parts (1991)   \n",
       "17832     118      165     3.0                         Akira (1988)   \n",
       "28488     211     3596     3.0             Cold Comfort Farm (1995)   \n",
       "\n",
       "                                         genres      pred  \n",
       "80939  Animation|Children|Drama|Musical|Romance  3.160353  \n",
       "14727                            Comedy|Musical  4.036552  \n",
       "53477                           Horror|Thriller  4.043419  \n",
       "17832         Action|Adventure|Animation|Sci-Fi  3.811961  \n",
       "28488                                    Comedy  3.045798  "
      ]
     },
     "execution_count": 40,
     "metadata": {},
     "output_type": "execute_result"
    }
   ],
   "source": [
    "df_val.dropna().sample(5).assign(pred=lambda x: model.predict([x.userId, x.movieId])*5.1)"
   ]
  },
  {
   "cell_type": "markdown",
   "metadata": {},
   "source": [
    "# Clusters"
   ]
  },
  {
   "cell_type": "code",
   "execution_count": 41,
   "metadata": {},
   "outputs": [
    {
     "data": {
      "text/plain": [
       "<tf.Variable 'embedding_8/embeddings:0' shape=(9066, 25) dtype=float32_ref>"
      ]
     },
     "execution_count": 41,
     "metadata": {},
     "output_type": "execute_result"
    }
   ],
   "source": [
    "# Obtenemos la matriz de embeddings de peliculas\n",
    "model.weights[1]"
   ]
  },
  {
   "cell_type": "code",
   "execution_count": 42,
   "metadata": {},
   "outputs": [
    {
     "data": {
      "text/plain": [
       "(9066, 25)"
      ]
     },
     "execution_count": 42,
     "metadata": {},
     "output_type": "execute_result"
    }
   ],
   "source": [
    "movie_embs = K.eval(model.weights[1])\n",
    "movie_embs.shape"
   ]
  },
  {
   "cell_type": "code",
   "execution_count": 43,
   "metadata": {},
   "outputs": [
    {
     "data": {
      "text/plain": [
       "(array([0, 1, 2], dtype=int32), array([ 536, 5840, 2690]))"
      ]
     },
     "execution_count": 43,
     "metadata": {},
     "output_type": "execute_result"
    }
   ],
   "source": [
    "from sklearn.cluster import MiniBatchKMeans\n",
    "\n",
    "n_clusters = 3\n",
    "kmeans = MiniBatchKMeans(n_clusters)\n",
    "clusters = kmeans.fit_predict(movie_embs)\n",
    "np.unique(clusters, return_counts=True)"
   ]
  },
  {
   "cell_type": "code",
   "execution_count": 44,
   "metadata": {},
   "outputs": [
    {
     "data": {
      "text/html": [
       "<div>\n",
       "<style scoped>\n",
       "    .dataframe tbody tr th:only-of-type {\n",
       "        vertical-align: middle;\n",
       "    }\n",
       "\n",
       "    .dataframe tbody tr th {\n",
       "        vertical-align: top;\n",
       "    }\n",
       "\n",
       "    .dataframe thead th {\n",
       "        text-align: right;\n",
       "    }\n",
       "</style>\n",
       "<table border=\"1\" class=\"dataframe\">\n",
       "  <thead>\n",
       "    <tr style=\"text-align: right;\">\n",
       "      <th></th>\n",
       "      <th>movieId</th>\n",
       "      <th>title</th>\n",
       "      <th>genres</th>\n",
       "      <th>cluster</th>\n",
       "      <th>distance</th>\n",
       "    </tr>\n",
       "  </thead>\n",
       "  <tbody>\n",
       "    <tr>\n",
       "      <th>0</th>\n",
       "      <td>0</td>\n",
       "      <td>Twelve Monkeys (a.k.a. 12 Monkeys) (1995)</td>\n",
       "      <td>Mystery|Sci-Fi|Thriller</td>\n",
       "      <td>2</td>\n",
       "      <td>0.074000</td>\n",
       "    </tr>\n",
       "    <tr>\n",
       "      <th>1</th>\n",
       "      <td>1</td>\n",
       "      <td>Highlander (1986)</td>\n",
       "      <td>Action|Adventure|Fantasy</td>\n",
       "      <td>1</td>\n",
       "      <td>0.065213</td>\n",
       "    </tr>\n",
       "    <tr>\n",
       "      <th>2</th>\n",
       "      <td>2</td>\n",
       "      <td>Hype! (1996)</td>\n",
       "      <td>Documentary</td>\n",
       "      <td>1</td>\n",
       "      <td>0.086363</td>\n",
       "    </tr>\n",
       "    <tr>\n",
       "      <th>3</th>\n",
       "      <td>3</td>\n",
       "      <td>Mars Attacks! (1996)</td>\n",
       "      <td>Action|Comedy|Sci-Fi</td>\n",
       "      <td>2</td>\n",
       "      <td>0.067984</td>\n",
       "    </tr>\n",
       "    <tr>\n",
       "      <th>4</th>\n",
       "      <td>4</td>\n",
       "      <td>Gridlock'd (1997)</td>\n",
       "      <td>Crime</td>\n",
       "      <td>1</td>\n",
       "      <td>0.094020</td>\n",
       "    </tr>\n",
       "  </tbody>\n",
       "</table>\n",
       "</div>"
      ],
      "text/plain": [
       "   movieId                                      title  \\\n",
       "0        0  Twelve Monkeys (a.k.a. 12 Monkeys) (1995)   \n",
       "1        1                          Highlander (1986)   \n",
       "2        2                               Hype! (1996)   \n",
       "3        3                       Mars Attacks! (1996)   \n",
       "4        4                          Gridlock'd (1997)   \n",
       "\n",
       "                     genres  cluster  distance  \n",
       "0   Mystery|Sci-Fi|Thriller        2  0.074000  \n",
       "1  Action|Adventure|Fantasy        1  0.065213  \n",
       "2               Documentary        1  0.086363  \n",
       "3      Action|Comedy|Sci-Fi        2  0.067984  \n",
       "4                     Crime        1  0.094020  "
      ]
     },
     "execution_count": 44,
     "metadata": {},
     "output_type": "execute_result"
    }
   ],
   "source": [
    "# Vamos a armar un DataFrame de la informacion de las peliculas + los embeddings\n",
    "movie_df = pd.DataFrame(movie_embs).assign(movieId=range(n_movies))\n",
    "movie_info = (ratings[['movieId', 'title', 'genres']].drop_duplicates()\n",
    "                                                     .reset_index(drop=True)\n",
    "                                                     .sort_values('movieId')\n",
    "                                                     .assign(cluster=clusters))\n",
    "movie_df = movie_info.merge(movie_df, 'left', on='movieId')\n",
    "\n",
    "# Agregamos la distancia al centro del cluster\n",
    "def distance(x1, x2): return sum((x1-x2)**2)**0.5\n",
    "movie_df['distance'] = movie_df.apply(lambda x: distance(x[4:], kmeans.cluster_centers_[x.cluster]), axis=1)\n",
    "\n",
    "# Eliminamos las que no tienen descripcion\n",
    "movie_df.dropna(inplace=True)\n",
    "\n",
    "movie_df.drop(list(range(25)), axis=1).head()"
   ]
  },
  {
   "cell_type": "code",
   "execution_count": 45,
   "metadata": {
    "scrolled": true
   },
   "outputs": [
    {
     "data": {
      "text/html": [
       "<div>\n",
       "<style scoped>\n",
       "    .dataframe tbody tr th:only-of-type {\n",
       "        vertical-align: middle;\n",
       "    }\n",
       "\n",
       "    .dataframe tbody tr th {\n",
       "        vertical-align: top;\n",
       "    }\n",
       "\n",
       "    .dataframe thead th {\n",
       "        text-align: right;\n",
       "    }\n",
       "</style>\n",
       "<table border=\"1\" class=\"dataframe\">\n",
       "  <thead>\n",
       "    <tr style=\"text-align: right;\">\n",
       "      <th></th>\n",
       "      <th>title</th>\n",
       "      <th>genres</th>\n",
       "    </tr>\n",
       "  </thead>\n",
       "  <tbody>\n",
       "    <tr>\n",
       "      <th>5093</th>\n",
       "      <td>Dune (1984)</td>\n",
       "      <td>Adventure|Sci-Fi</td>\n",
       "    </tr>\n",
       "    <tr>\n",
       "      <th>6548</th>\n",
       "      <td>Map of the World, A (1999)</td>\n",
       "      <td>Drama</td>\n",
       "    </tr>\n",
       "    <tr>\n",
       "      <th>3785</th>\n",
       "      <td>Last Circus, The (Balada triste de trompeta) (...</td>\n",
       "      <td>Comedy|Drama|War</td>\n",
       "    </tr>\n",
       "    <tr>\n",
       "      <th>2092</th>\n",
       "      <td>Friday (1995)</td>\n",
       "      <td>Comedy</td>\n",
       "    </tr>\n",
       "    <tr>\n",
       "      <th>3644</th>\n",
       "      <td>Opposite of Sex, The (1998)</td>\n",
       "      <td>Comedy|Drama|Romance</td>\n",
       "    </tr>\n",
       "  </tbody>\n",
       "</table>\n",
       "</div>"
      ],
      "text/plain": [
       "                                                  title                genres\n",
       "5093                                        Dune (1984)      Adventure|Sci-Fi\n",
       "6548                         Map of the World, A (1999)                 Drama\n",
       "3785  Last Circus, The (Balada triste de trompeta) (...      Comedy|Drama|War\n",
       "2092                                      Friday (1995)                Comedy\n",
       "3644                        Opposite of Sex, The (1998)  Comedy|Drama|Romance"
      ]
     },
     "metadata": {},
     "output_type": "display_data"
    },
    {
     "data": {
      "text/html": [
       "<div>\n",
       "<style scoped>\n",
       "    .dataframe tbody tr th:only-of-type {\n",
       "        vertical-align: middle;\n",
       "    }\n",
       "\n",
       "    .dataframe tbody tr th {\n",
       "        vertical-align: top;\n",
       "    }\n",
       "\n",
       "    .dataframe thead th {\n",
       "        text-align: right;\n",
       "    }\n",
       "</style>\n",
       "<table border=\"1\" class=\"dataframe\">\n",
       "  <thead>\n",
       "    <tr style=\"text-align: right;\">\n",
       "      <th></th>\n",
       "      <th>title</th>\n",
       "      <th>genres</th>\n",
       "    </tr>\n",
       "  </thead>\n",
       "  <tbody>\n",
       "    <tr>\n",
       "      <th>6359</th>\n",
       "      <td>Aeon Flux (2005)</td>\n",
       "      <td>Action|Sci-Fi</td>\n",
       "    </tr>\n",
       "    <tr>\n",
       "      <th>5281</th>\n",
       "      <td>Saddest Music in the World, The (2003)</td>\n",
       "      <td>Comedy|Drama|Fantasy|Musical|Romance</td>\n",
       "    </tr>\n",
       "    <tr>\n",
       "      <th>5560</th>\n",
       "      <td>Sweet November (2001)</td>\n",
       "      <td>Drama|Romance</td>\n",
       "    </tr>\n",
       "    <tr>\n",
       "      <th>7030</th>\n",
       "      <td>Decalogue, The (Dekalog) (1989)</td>\n",
       "      <td>Crime|Drama|Romance</td>\n",
       "    </tr>\n",
       "    <tr>\n",
       "      <th>8426</th>\n",
       "      <td>Firemen's Ball, The (Horí, má panenko) (1967)</td>\n",
       "      <td>Comedy|Drama</td>\n",
       "    </tr>\n",
       "  </tbody>\n",
       "</table>\n",
       "</div>"
      ],
      "text/plain": [
       "                                              title  \\\n",
       "6359                               Aeon Flux (2005)   \n",
       "5281         Saddest Music in the World, The (2003)   \n",
       "5560                          Sweet November (2001)   \n",
       "7030                Decalogue, The (Dekalog) (1989)   \n",
       "8426  Firemen's Ball, The (Horí, má panenko) (1967)   \n",
       "\n",
       "                                    genres  \n",
       "6359                         Action|Sci-Fi  \n",
       "5281  Comedy|Drama|Fantasy|Musical|Romance  \n",
       "5560                         Drama|Romance  \n",
       "7030                   Crime|Drama|Romance  \n",
       "8426                          Comedy|Drama  "
      ]
     },
     "metadata": {},
     "output_type": "display_data"
    },
    {
     "data": {
      "text/html": [
       "<div>\n",
       "<style scoped>\n",
       "    .dataframe tbody tr th:only-of-type {\n",
       "        vertical-align: middle;\n",
       "    }\n",
       "\n",
       "    .dataframe tbody tr th {\n",
       "        vertical-align: top;\n",
       "    }\n",
       "\n",
       "    .dataframe thead th {\n",
       "        text-align: right;\n",
       "    }\n",
       "</style>\n",
       "<table border=\"1\" class=\"dataframe\">\n",
       "  <thead>\n",
       "    <tr style=\"text-align: right;\">\n",
       "      <th></th>\n",
       "      <th>title</th>\n",
       "      <th>genres</th>\n",
       "    </tr>\n",
       "  </thead>\n",
       "  <tbody>\n",
       "    <tr>\n",
       "      <th>2633</th>\n",
       "      <td>Stealing Home (1988)</td>\n",
       "      <td>Drama</td>\n",
       "    </tr>\n",
       "    <tr>\n",
       "      <th>3540</th>\n",
       "      <td>52 Pick-Up (1986)</td>\n",
       "      <td>Action|Mystery|Thriller</td>\n",
       "    </tr>\n",
       "    <tr>\n",
       "      <th>7225</th>\n",
       "      <td>On Moonlight Bay (1951)</td>\n",
       "      <td>Comedy|Musical</td>\n",
       "    </tr>\n",
       "    <tr>\n",
       "      <th>3672</th>\n",
       "      <td>Cry in the Dark, A (1988)</td>\n",
       "      <td>Drama</td>\n",
       "    </tr>\n",
       "    <tr>\n",
       "      <th>5222</th>\n",
       "      <td>Joy Ride (2001)</td>\n",
       "      <td>Adventure|Thriller</td>\n",
       "    </tr>\n",
       "  </tbody>\n",
       "</table>\n",
       "</div>"
      ],
      "text/plain": [
       "                          title                   genres\n",
       "2633       Stealing Home (1988)                    Drama\n",
       "3540          52 Pick-Up (1986)  Action|Mystery|Thriller\n",
       "7225    On Moonlight Bay (1951)           Comedy|Musical\n",
       "3672  Cry in the Dark, A (1988)                    Drama\n",
       "5222            Joy Ride (2001)       Adventure|Thriller"
      ]
     },
     "metadata": {},
     "output_type": "display_data"
    }
   ],
   "source": [
    "# Mostramos las peliculas mas representativas de cada cluster\n",
    "for i in range(n_clusters):\n",
    "    display(movie_df.query(f'cluster == {i}').sort_values('distance')[['title', 'genres']].head(5))"
   ]
  },
  {
   "cell_type": "code",
   "execution_count": 48,
   "metadata": {},
   "outputs": [
    {
     "data": {
      "image/png": "[encoded data removed]",
      "text/plain": [
       "<Figure size 864x360 with 3 Axes>"
      ]
     },
     "metadata": {
      "needs_background": "light"
     },
     "output_type": "display_data"
    }
   ],
   "source": [
    "# Ahora vamos a ver los generos en cada cluster\n",
    "import seaborn as sns\n",
    "from collections import Counter\n",
    "\n",
    "columns = 3\n",
    "fig, axes = plt.subplots(math.ceil(n_clusters/columns), columns, figsize=(12,5))\n",
    "axes = axes.flatten()\n",
    "\n",
    "all_genres = [ee for e in movie_df['genres'].str.split('|').tolist() for ee in e]\n",
    "all_counts = pd.Series(Counter(all_genres), name='n')\n",
    "\n",
    "for ax, i in zip(axes, range(n_clusters)):\n",
    "    all_genres = [ee for e in movie_df.query(f'cluster == {i}')['genres'].str.split('|').tolist() for ee in e]\n",
    "    counts = pd.Series(Counter(all_genres), name='n')\n",
    "    counts = (counts / all_counts[counts.index]).sort_values(ascending=False)\n",
    "    counts.plot.barh(ax=ax)\n",
    "    ax.set_title(f'Cluster {i+1}', size=14)\n",
    "    ax.set_xlabel(''); ax.set_ylabel('')\n",
    "    sns.despine(ax=ax)\n",
    "\n",
    "for i in range(i+1, len(axes)): axes[i].set_axis_off()\n",
    "        \n",
    "plt.tight_layout()"
   ]
  },
  {
   "cell_type": "code",
   "execution_count": null,
   "metadata": {},
   "outputs": [],
   "source": []
  },
  {
   "cell_type": "code",
   "execution_count": null,
   "metadata": {},
   "outputs": [],
   "source": []
  },
  {
   "cell_type": "code",
   "execution_count": null,
   "metadata": {},
   "outputs": [],
   "source": []
  },
  {
   "cell_type": "code",
   "execution_count": null,
   "metadata": {},
   "outputs": [],
   "source": []
  }
 ],
 "metadata": {
  "kernelspec": {
   "display_name": "Python 3",
   "language": "python",
   "name": "python3"
  },
  "language_info": {
   "codemirror_mode": {
    "name": "ipython",
    "version": 3
   },
   "file_extension": ".py",
   "mimetype": "text/x-python",
   "name": "python",
   "nbconvert_exporter": "python",
   "pygments_lexer": "ipython3",
   "version": "3.6.5"
  },
  "toc": {
   "base_numbering": 1,
   "nav_menu": {},
   "number_sections": true,
   "sideBar": true,
   "skip_h1_title": false,
   "title_cell": "Table of Contents",
   "title_sidebar": "Contents",
   "toc_cell": false,
   "toc_position": {
    "height": "calc(100% - 180px)",
    "left": "10px",
    "top": "150px",
    "width": "326.6px"
   },
   "toc_section_display": true,
   "toc_window_display": true
  }
 },
 "nbformat": 4,
 "nbformat_minor": 2
}
