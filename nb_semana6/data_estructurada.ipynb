{
 "cells": [
  {
   "cell_type": "code",
   "execution_count": 1,
   "metadata": {},
   "outputs": [],
   "source": [
    "import math\n",
    "import numpy as np\n",
    "import pandas as pd\n",
    "import matplotlib.pyplot as plt\n",
    "%matplotlib inline\n",
    "\n",
    "pd.set_option('display.max_columns', 50)"
   ]
  },
  {
   "cell_type": "markdown",
   "metadata": {},
   "source": [
    "# Data"
   ]
  },
  {
   "cell_type": "markdown",
   "metadata": {},
   "source": [
    "Census Income Data Set: http://mlr.cs.umass.edu/ml/datasets/Census+Income\n",
    "\n",
    "Abstract: Predict whether income exceeds $50K/yr based on census data. Also known as \"Adult\" dataset."
   ]
  },
  {
   "cell_type": "markdown",
   "metadata": {},
   "source": [
    "* **age:** continuous.\n",
    "* **workclass:** Private, Self-emp-not-inc, Self-emp-inc, Federal-gov, Local-gov, State-gov, Without-pay, Never-worked.\n",
    "* **fnlwgt:** continuous.\n",
    "* **education:** Bachelors, Some-college, 11th, HS-grad, Prof-school, Assoc-acdm, Assoc-voc, 9th, 7th-8th, 12th, Masters, 1st-4th, 10th, Doctorate, 5th-6th, Preschool.\n",
    "* **education-num:** continuous.\n",
    "* **marital-status:** Married-civ-spouse, Divorced, Never-married, Separated, Widowed, Married-spouse-absent, Married-AF-spouse.\n",
    "* **occupation:** Tech-support, Craft-repair, Other-service, Sales, Exec-managerial, Prof-specialty, Handlers-cleaners, Machine-op-inspct, Adm-clerical, Farming-fishing, Transport-moving, Priv-house-serv, Protective-serv, Armed-Forces.\n",
    "* **relationship:** Wife, Own-child, Husband, Not-in-family, Other-relative, Unmarried.\n",
    "* **race:** White, Asian-Pac-Islander, Amer-Indian-Eskimo, Other, Black.\n",
    "* **sex:** Female, Male.\n",
    "* **capital-gain:** continuous.\n",
    "* **capital-loss:** continuous.\n",
    "* **hours-per-week:** continuous.\n",
    "* **native-country:** United-States, Cambodia, England, Puerto-Rico, Canada, Germany, Outlying-US(Guam-USVI-etc), India, Japan, Greece, South, China, Cuba, Iran, Honduras, Philippines, Italy, Poland, Jamaica, Vietnam, Mexico, Portugal, Ireland, France, Dominican-Republic, Laos, Ecuador, Taiwan, Haiti, Columbia, Hungary, Guatemala, Nicaragua, Scotland, Thailand, Yugoslavia, El-Salvador, Trinadad&Tobago, Peru, Hong, Holand-Netherlands."
   ]
  },
  {
   "cell_type": "code",
   "execution_count": 2,
   "metadata": {},
   "outputs": [
    {
     "data": {
      "text/plain": [
       "((32561, 15), (16281, 15))"
      ]
     },
     "execution_count": 2,
     "metadata": {},
     "output_type": "execute_result"
    }
   ],
   "source": [
    "df_raw = pd.read_csv('data/census_train.csv')\n",
    "df_test = pd.read_csv('data/census_test.csv')\n",
    "df_raw.shape, df_test.shape"
   ]
  },
  {
   "cell_type": "code",
   "execution_count": 3,
   "metadata": {},
   "outputs": [
    {
     "data": {
      "text/html": [
       "<div>\n",
       "<style scoped>\n",
       "    .dataframe tbody tr th:only-of-type {\n",
       "        vertical-align: middle;\n",
       "    }\n",
       "\n",
       "    .dataframe tbody tr th {\n",
       "        vertical-align: top;\n",
       "    }\n",
       "\n",
       "    .dataframe thead th {\n",
       "        text-align: right;\n",
       "    }\n",
       "</style>\n",
       "<table border=\"1\" class=\"dataframe\">\n",
       "  <thead>\n",
       "    <tr style=\"text-align: right;\">\n",
       "      <th></th>\n",
       "      <th>age</th>\n",
       "      <th>workclass</th>\n",
       "      <th>fnlwgt</th>\n",
       "      <th>education</th>\n",
       "      <th>education-num</th>\n",
       "      <th>marital-status</th>\n",
       "      <th>occupation</th>\n",
       "      <th>relationship</th>\n",
       "      <th>race</th>\n",
       "      <th>sex</th>\n",
       "      <th>capital-gain</th>\n",
       "      <th>capital-loss</th>\n",
       "      <th>hours-per-week</th>\n",
       "      <th>native-country</th>\n",
       "      <th>label</th>\n",
       "    </tr>\n",
       "  </thead>\n",
       "  <tbody>\n",
       "    <tr>\n",
       "      <th>0</th>\n",
       "      <td>39</td>\n",
       "      <td>State-gov</td>\n",
       "      <td>77516</td>\n",
       "      <td>Bachelors</td>\n",
       "      <td>13</td>\n",
       "      <td>Never-married</td>\n",
       "      <td>Adm-clerical</td>\n",
       "      <td>Not-in-family</td>\n",
       "      <td>White</td>\n",
       "      <td>Male</td>\n",
       "      <td>2174</td>\n",
       "      <td>0</td>\n",
       "      <td>40</td>\n",
       "      <td>United-States</td>\n",
       "      <td>&lt;=50K</td>\n",
       "    </tr>\n",
       "    <tr>\n",
       "      <th>1</th>\n",
       "      <td>50</td>\n",
       "      <td>Self-emp-not-inc</td>\n",
       "      <td>83311</td>\n",
       "      <td>Bachelors</td>\n",
       "      <td>13</td>\n",
       "      <td>Married-civ-spouse</td>\n",
       "      <td>Exec-managerial</td>\n",
       "      <td>Husband</td>\n",
       "      <td>White</td>\n",
       "      <td>Male</td>\n",
       "      <td>0</td>\n",
       "      <td>0</td>\n",
       "      <td>13</td>\n",
       "      <td>United-States</td>\n",
       "      <td>&lt;=50K</td>\n",
       "    </tr>\n",
       "    <tr>\n",
       "      <th>2</th>\n",
       "      <td>38</td>\n",
       "      <td>Private</td>\n",
       "      <td>215646</td>\n",
       "      <td>HS-grad</td>\n",
       "      <td>9</td>\n",
       "      <td>Divorced</td>\n",
       "      <td>Handlers-cleaners</td>\n",
       "      <td>Not-in-family</td>\n",
       "      <td>White</td>\n",
       "      <td>Male</td>\n",
       "      <td>0</td>\n",
       "      <td>0</td>\n",
       "      <td>40</td>\n",
       "      <td>United-States</td>\n",
       "      <td>&lt;=50K</td>\n",
       "    </tr>\n",
       "  </tbody>\n",
       "</table>\n",
       "</div>"
      ],
      "text/plain": [
       "   age          workclass  fnlwgt   education  education-num  \\\n",
       "0   39          State-gov   77516   Bachelors             13   \n",
       "1   50   Self-emp-not-inc   83311   Bachelors             13   \n",
       "2   38            Private  215646     HS-grad              9   \n",
       "\n",
       "        marital-status          occupation    relationship    race    sex  \\\n",
       "0        Never-married        Adm-clerical   Not-in-family   White   Male   \n",
       "1   Married-civ-spouse     Exec-managerial         Husband   White   Male   \n",
       "2             Divorced   Handlers-cleaners   Not-in-family   White   Male   \n",
       "\n",
       "   capital-gain  capital-loss  hours-per-week  native-country   label  \n",
       "0          2174             0              40   United-States   <=50K  \n",
       "1             0             0              13   United-States   <=50K  \n",
       "2             0             0              40   United-States   <=50K  "
      ]
     },
     "execution_count": 3,
     "metadata": {},
     "output_type": "execute_result"
    }
   ],
   "source": [
    "df_raw.head(3)"
   ]
  },
  {
   "cell_type": "code",
   "execution_count": 4,
   "metadata": {},
   "outputs": [
    {
     "data": {
      "text/html": [
       "<div>\n",
       "<style scoped>\n",
       "    .dataframe tbody tr th:only-of-type {\n",
       "        vertical-align: middle;\n",
       "    }\n",
       "\n",
       "    .dataframe tbody tr th {\n",
       "        vertical-align: top;\n",
       "    }\n",
       "\n",
       "    .dataframe thead th {\n",
       "        text-align: right;\n",
       "    }\n",
       "</style>\n",
       "<table border=\"1\" class=\"dataframe\">\n",
       "  <thead>\n",
       "    <tr style=\"text-align: right;\">\n",
       "      <th></th>\n",
       "      <th>education</th>\n",
       "      <th>education-num</th>\n",
       "    </tr>\n",
       "  </thead>\n",
       "  <tbody>\n",
       "    <tr>\n",
       "      <th>0</th>\n",
       "      <td>Bachelors</td>\n",
       "      <td>13</td>\n",
       "    </tr>\n",
       "    <tr>\n",
       "      <th>2</th>\n",
       "      <td>HS-grad</td>\n",
       "      <td>9</td>\n",
       "    </tr>\n",
       "    <tr>\n",
       "      <th>3</th>\n",
       "      <td>11th</td>\n",
       "      <td>7</td>\n",
       "    </tr>\n",
       "    <tr>\n",
       "      <th>5</th>\n",
       "      <td>Masters</td>\n",
       "      <td>14</td>\n",
       "    </tr>\n",
       "    <tr>\n",
       "      <th>6</th>\n",
       "      <td>9th</td>\n",
       "      <td>5</td>\n",
       "    </tr>\n",
       "    <tr>\n",
       "      <th>10</th>\n",
       "      <td>Some-college</td>\n",
       "      <td>10</td>\n",
       "    </tr>\n",
       "    <tr>\n",
       "      <th>13</th>\n",
       "      <td>Assoc-acdm</td>\n",
       "      <td>12</td>\n",
       "    </tr>\n",
       "    <tr>\n",
       "      <th>14</th>\n",
       "      <td>Assoc-voc</td>\n",
       "      <td>11</td>\n",
       "    </tr>\n",
       "    <tr>\n",
       "      <th>15</th>\n",
       "      <td>7th-8th</td>\n",
       "      <td>4</td>\n",
       "    </tr>\n",
       "    <tr>\n",
       "      <th>20</th>\n",
       "      <td>Doctorate</td>\n",
       "      <td>16</td>\n",
       "    </tr>\n",
       "    <tr>\n",
       "      <th>52</th>\n",
       "      <td>Prof-school</td>\n",
       "      <td>15</td>\n",
       "    </tr>\n",
       "    <tr>\n",
       "      <th>56</th>\n",
       "      <td>5th-6th</td>\n",
       "      <td>3</td>\n",
       "    </tr>\n",
       "    <tr>\n",
       "      <th>77</th>\n",
       "      <td>10th</td>\n",
       "      <td>6</td>\n",
       "    </tr>\n",
       "    <tr>\n",
       "      <th>160</th>\n",
       "      <td>1st-4th</td>\n",
       "      <td>2</td>\n",
       "    </tr>\n",
       "    <tr>\n",
       "      <th>224</th>\n",
       "      <td>Preschool</td>\n",
       "      <td>1</td>\n",
       "    </tr>\n",
       "    <tr>\n",
       "      <th>415</th>\n",
       "      <td>12th</td>\n",
       "      <td>8</td>\n",
       "    </tr>\n",
       "  </tbody>\n",
       "</table>\n",
       "</div>"
      ],
      "text/plain": [
       "         education  education-num\n",
       "0        Bachelors             13\n",
       "2          HS-grad              9\n",
       "3             11th              7\n",
       "5          Masters             14\n",
       "6              9th              5\n",
       "10    Some-college             10\n",
       "13      Assoc-acdm             12\n",
       "14       Assoc-voc             11\n",
       "15         7th-8th              4\n",
       "20       Doctorate             16\n",
       "52     Prof-school             15\n",
       "56         5th-6th              3\n",
       "77            10th              6\n",
       "160        1st-4th              2\n",
       "224      Preschool              1\n",
       "415           12th              8"
      ]
     },
     "execution_count": 4,
     "metadata": {},
     "output_type": "execute_result"
    }
   ],
   "source": [
    "# La variable \"education-num\" contiene la misma informacion que \"education\",\n",
    "# en tipo numérica y ordenada, por lo que borraremos \"education\"\n",
    "# pero guardaremos sus código en \"cat_dict\".\n",
    "education_codes = df_raw[['education', 'education-num']].drop_duplicates()\n",
    "education_codes"
   ]
  },
  {
   "cell_type": "code",
   "execution_count": 5,
   "metadata": {},
   "outputs": [
    {
     "data": {
      "text/plain": [
       "{'education': {13: ' Bachelors',\n",
       "  9: ' HS-grad',\n",
       "  7: ' 11th',\n",
       "  14: ' Masters',\n",
       "  5: ' 9th',\n",
       "  10: ' Some-college',\n",
       "  12: ' Assoc-acdm',\n",
       "  11: ' Assoc-voc',\n",
       "  4: ' 7th-8th',\n",
       "  16: ' Doctorate',\n",
       "  15: ' Prof-school',\n",
       "  3: ' 5th-6th',\n",
       "  6: ' 10th',\n",
       "  2: ' 1st-4th',\n",
       "  1: ' Preschool',\n",
       "  8: ' 12th'}}"
      ]
     },
     "execution_count": 5,
     "metadata": {},
     "output_type": "execute_result"
    }
   ],
   "source": [
    "cat_dict = education_codes.set_index('education-num').to_dict()\n",
    "cat_dict"
   ]
  },
  {
   "cell_type": "code",
   "execution_count": 6,
   "metadata": {},
   "outputs": [
    {
     "data": {
      "text/html": [
       "<div>\n",
       "<style scoped>\n",
       "    .dataframe tbody tr th:only-of-type {\n",
       "        vertical-align: middle;\n",
       "    }\n",
       "\n",
       "    .dataframe tbody tr th {\n",
       "        vertical-align: top;\n",
       "    }\n",
       "\n",
       "    .dataframe thead th {\n",
       "        text-align: right;\n",
       "    }\n",
       "</style>\n",
       "<table border=\"1\" class=\"dataframe\">\n",
       "  <thead>\n",
       "    <tr style=\"text-align: right;\">\n",
       "      <th></th>\n",
       "      <th>age</th>\n",
       "      <th>workclass</th>\n",
       "      <th>fnlwgt</th>\n",
       "      <th>education</th>\n",
       "      <th>marital-status</th>\n",
       "      <th>occupation</th>\n",
       "      <th>relationship</th>\n",
       "      <th>race</th>\n",
       "      <th>sex</th>\n",
       "      <th>capital-gain</th>\n",
       "      <th>capital-loss</th>\n",
       "      <th>hours-per-week</th>\n",
       "      <th>native-country</th>\n",
       "      <th>label</th>\n",
       "    </tr>\n",
       "  </thead>\n",
       "  <tbody>\n",
       "    <tr>\n",
       "      <th>0</th>\n",
       "      <td>39</td>\n",
       "      <td>State-gov</td>\n",
       "      <td>77516</td>\n",
       "      <td>13</td>\n",
       "      <td>Never-married</td>\n",
       "      <td>Adm-clerical</td>\n",
       "      <td>Not-in-family</td>\n",
       "      <td>White</td>\n",
       "      <td>Male</td>\n",
       "      <td>2174</td>\n",
       "      <td>0</td>\n",
       "      <td>40</td>\n",
       "      <td>United-States</td>\n",
       "      <td>&lt;=50K</td>\n",
       "    </tr>\n",
       "    <tr>\n",
       "      <th>1</th>\n",
       "      <td>50</td>\n",
       "      <td>Self-emp-not-inc</td>\n",
       "      <td>83311</td>\n",
       "      <td>13</td>\n",
       "      <td>Married-civ-spouse</td>\n",
       "      <td>Exec-managerial</td>\n",
       "      <td>Husband</td>\n",
       "      <td>White</td>\n",
       "      <td>Male</td>\n",
       "      <td>0</td>\n",
       "      <td>0</td>\n",
       "      <td>13</td>\n",
       "      <td>United-States</td>\n",
       "      <td>&lt;=50K</td>\n",
       "    </tr>\n",
       "    <tr>\n",
       "      <th>2</th>\n",
       "      <td>38</td>\n",
       "      <td>Private</td>\n",
       "      <td>215646</td>\n",
       "      <td>9</td>\n",
       "      <td>Divorced</td>\n",
       "      <td>Handlers-cleaners</td>\n",
       "      <td>Not-in-family</td>\n",
       "      <td>White</td>\n",
       "      <td>Male</td>\n",
       "      <td>0</td>\n",
       "      <td>0</td>\n",
       "      <td>40</td>\n",
       "      <td>United-States</td>\n",
       "      <td>&lt;=50K</td>\n",
       "    </tr>\n",
       "  </tbody>\n",
       "</table>\n",
       "</div>"
      ],
      "text/plain": [
       "   age          workclass  fnlwgt  education       marital-status  \\\n",
       "0   39          State-gov   77516         13        Never-married   \n",
       "1   50   Self-emp-not-inc   83311         13   Married-civ-spouse   \n",
       "2   38            Private  215646          9             Divorced   \n",
       "\n",
       "           occupation    relationship    race    sex  capital-gain  \\\n",
       "0        Adm-clerical   Not-in-family   White   Male          2174   \n",
       "1     Exec-managerial         Husband   White   Male             0   \n",
       "2   Handlers-cleaners   Not-in-family   White   Male             0   \n",
       "\n",
       "   capital-loss  hours-per-week  native-country   label  \n",
       "0             0              40   United-States   <=50K  \n",
       "1             0              13   United-States   <=50K  \n",
       "2             0              40   United-States   <=50K  "
      ]
     },
     "execution_count": 6,
     "metadata": {},
     "output_type": "execute_result"
    }
   ],
   "source": [
    "# Borramos \"education\" y cambiamos el nombre de \"education-num\" a \"education\"\n",
    "\n",
    "# Este estilo de escribir métodos de pandas, seguidos uno de otro, se llama method chaining\n",
    "df_raw = (df_raw.drop('education', axis=1)\n",
    "                .rename({'education-num': 'education'}, axis=1))\n",
    "          \n",
    "df_raw.head(3)"
   ]
  },
  {
   "cell_type": "code",
   "execution_count": 7,
   "metadata": {},
   "outputs": [
    {
     "data": {
      "text/plain": [
       "age                  int64\n",
       "workclass         category\n",
       "fnlwgt               int64\n",
       "education            int64\n",
       "marital-status    category\n",
       "occupation        category\n",
       "relationship      category\n",
       "race              category\n",
       "sex               category\n",
       "capital-gain         int64\n",
       "capital-loss         int64\n",
       "hours-per-week       int64\n",
       "native-country    category\n",
       "label               object\n",
       "dtype: object"
      ]
     },
     "execution_count": 7,
     "metadata": {},
     "output_type": "execute_result"
    }
   ],
   "source": [
    "# 1. Convertir las columnas a tipo \"category\"\n",
    "for n,col in df_raw.items():\n",
    "    if not pd.api.types.is_numeric_dtype(col) and n != 'label':\n",
    "        # Transforma la variable a tipo category\n",
    "        df_raw[n] = col.astype('category')\n",
    "\n",
    "        # Actualiza cat_dict\n",
    "        cat_dict[n] = {i+1:e for i,e in enumerate(df_raw[n].cat.categories)}\n",
    "        \n",
    "df_raw.dtypes"
   ]
  },
  {
   "cell_type": "code",
   "execution_count": 8,
   "metadata": {},
   "outputs": [
    {
     "data": {
      "text/html": [
       "<div>\n",
       "<style scoped>\n",
       "    .dataframe tbody tr th:only-of-type {\n",
       "        vertical-align: middle;\n",
       "    }\n",
       "\n",
       "    .dataframe tbody tr th {\n",
       "        vertical-align: top;\n",
       "    }\n",
       "\n",
       "    .dataframe thead th {\n",
       "        text-align: right;\n",
       "    }\n",
       "</style>\n",
       "<table border=\"1\" class=\"dataframe\">\n",
       "  <thead>\n",
       "    <tr style=\"text-align: right;\">\n",
       "      <th></th>\n",
       "      <th>age</th>\n",
       "      <th>workclass</th>\n",
       "      <th>fnlwgt</th>\n",
       "      <th>education</th>\n",
       "      <th>marital-status</th>\n",
       "      <th>occupation</th>\n",
       "      <th>relationship</th>\n",
       "      <th>race</th>\n",
       "      <th>sex</th>\n",
       "      <th>capital-gain</th>\n",
       "      <th>capital-loss</th>\n",
       "      <th>hours-per-week</th>\n",
       "      <th>native-country</th>\n",
       "      <th>label</th>\n",
       "    </tr>\n",
       "  </thead>\n",
       "  <tbody>\n",
       "    <tr>\n",
       "      <th>0</th>\n",
       "      <td>39</td>\n",
       "      <td>7</td>\n",
       "      <td>77516</td>\n",
       "      <td>13</td>\n",
       "      <td>4</td>\n",
       "      <td>1</td>\n",
       "      <td>1</td>\n",
       "      <td>4</td>\n",
       "      <td>1</td>\n",
       "      <td>2174</td>\n",
       "      <td>0</td>\n",
       "      <td>40</td>\n",
       "      <td>39</td>\n",
       "      <td>&lt;=50K</td>\n",
       "    </tr>\n",
       "    <tr>\n",
       "      <th>1</th>\n",
       "      <td>50</td>\n",
       "      <td>6</td>\n",
       "      <td>83311</td>\n",
       "      <td>13</td>\n",
       "      <td>2</td>\n",
       "      <td>4</td>\n",
       "      <td>0</td>\n",
       "      <td>4</td>\n",
       "      <td>1</td>\n",
       "      <td>0</td>\n",
       "      <td>0</td>\n",
       "      <td>13</td>\n",
       "      <td>39</td>\n",
       "      <td>&lt;=50K</td>\n",
       "    </tr>\n",
       "    <tr>\n",
       "      <th>2</th>\n",
       "      <td>38</td>\n",
       "      <td>4</td>\n",
       "      <td>215646</td>\n",
       "      <td>9</td>\n",
       "      <td>0</td>\n",
       "      <td>6</td>\n",
       "      <td>1</td>\n",
       "      <td>4</td>\n",
       "      <td>1</td>\n",
       "      <td>0</td>\n",
       "      <td>0</td>\n",
       "      <td>40</td>\n",
       "      <td>39</td>\n",
       "      <td>&lt;=50K</td>\n",
       "    </tr>\n",
       "  </tbody>\n",
       "</table>\n",
       "</div>"
      ],
      "text/plain": [
       "   age  workclass  fnlwgt  education  marital-status  occupation  \\\n",
       "0   39          7   77516         13               4           1   \n",
       "1   50          6   83311         13               2           4   \n",
       "2   38          4  215646          9               0           6   \n",
       "\n",
       "   relationship  race  sex  capital-gain  capital-loss  hours-per-week  \\\n",
       "0             1     4    1          2174             0              40   \n",
       "1             0     4    1             0             0              13   \n",
       "2             1     4    1             0             0              40   \n",
       "\n",
       "   native-country   label  \n",
       "0              39   <=50K  \n",
       "1              39   <=50K  \n",
       "2              39   <=50K  "
      ]
     },
     "execution_count": 8,
     "metadata": {},
     "output_type": "execute_result"
    }
   ],
   "source": [
    "# 2. Trasnformar las columnas categóricas a numéricas.\n",
    "df = df_raw.copy()\n",
    "\n",
    "# Convertir cada columna categórica a numérica\n",
    "for n,col in df.items():\n",
    "    if pd.api.types.is_categorical_dtype(col):\n",
    "        df[n] = col.cat.codes\n",
    "        \n",
    "df.head(3)"
   ]
  },
  {
   "cell_type": "code",
   "execution_count": 9,
   "metadata": {},
   "outputs": [
    {
     "name": "stdout",
     "output_type": "stream",
     "text": [
      "Train shape     : (26048, 13)\n",
      "Validation shape: (6513, 13)\n"
     ]
    }
   ],
   "source": [
    "# 3. Train-validation split\n",
    "from sklearn.model_selection import train_test_split\n",
    "\n",
    "x = df.drop('label', axis=1)\n",
    "y = (df['label'] == ' >50K').astype(int)\n",
    "# 0  >50K\n",
    "# 1  <=50K \n",
    "\n",
    "x_train, x_val, y_train, y_val = train_test_split(x, y, test_size=0.2, random_state=42)\n",
    "print(f'Train shape     : {x_train.shape}')\n",
    "print(f'Validation shape: {x_val.shape}')"
   ]
  },
  {
   "cell_type": "markdown",
   "metadata": {},
   "source": [
    "# Modelo"
   ]
  },
  {
   "cell_type": "code",
   "execution_count": 10,
   "metadata": {},
   "outputs": [
    {
     "name": "stdout",
     "output_type": "stream",
     "text": [
      "['workclass', 'marital-status', 'occupation', 'relationship', 'race', 'sex', 'native-country']\n",
      "['age', 'fnlwgt', 'education', 'capital-gain', 'capital-loss', 'hours-per-week']\n"
     ]
    }
   ],
   "source": [
    "# Obtenemos las variables categoricas y no categoricas\n",
    "cat_vars = [n for n,col in df_raw.iloc[:, :-1].items() if pd.api.types.is_categorical_dtype(col)]\n",
    "num_vars = [n for n,col in df_raw.iloc[:, :-1].items() if not pd.api.types.is_categorical_dtype(col)]\n",
    "print(cat_vars)\n",
    "print(num_vars)"
   ]
  },
  {
   "cell_type": "code",
   "execution_count": 11,
   "metadata": {},
   "outputs": [
    {
     "data": {
      "text/plain": [
       "{'workclass': 9,\n",
       " 'marital-status': 7,\n",
       " 'occupation': 15,\n",
       " 'relationship': 6,\n",
       " 'race': 5,\n",
       " 'sex': 2,\n",
       " 'native-country': 42}"
      ]
     },
     "execution_count": 11,
     "metadata": {},
     "output_type": "execute_result"
    }
   ],
   "source": [
    "# Anotamos la cantidad de categorias:\n",
    "cat_sizes = {n:col for n,col in x_train[cat_vars].nunique().items()}\n",
    "cat_sizes"
   ]
  },
  {
   "cell_type": "code",
   "execution_count": 12,
   "metadata": {},
   "outputs": [
    {
     "data": {
      "text/plain": [
       "{'workclass': 5,\n",
       " 'marital-status': 4,\n",
       " 'occupation': 8,\n",
       " 'relationship': 3,\n",
       " 'race': 3,\n",
       " 'sex': 1,\n",
       " 'native-country': 20}"
      ]
     },
     "execution_count": 12,
     "metadata": {},
     "output_type": "execute_result"
    }
   ],
   "source": [
    "# Definimos el tamaño de los embeddings:\n",
    "max_size = 20\n",
    "rule = lambda x: min(max_size, math.ceil(x/2))\n",
    "emb_sizes = {k:rule(v) for k,v in cat_sizes.items()}\n",
    "emb_sizes"
   ]
  },
  {
   "cell_type": "code",
   "execution_count": 30,
   "metadata": {
    "scrolled": true
   },
   "outputs": [
    {
     "name": "stdout",
     "output_type": "stream",
     "text": [
      "__________________________________________________________________________________________________\n",
      "Layer (type)                    Output Shape         Param #     Connected to                     \n",
      "==================================================================================================\n",
      "workclass_in (InputLayer)       (None, 1)            0                                            \n",
      "__________________________________________________________________________________________________\n",
      "marital-status_in (InputLayer)  (None, 1)            0                                            \n",
      "__________________________________________________________________________________________________\n",
      "occupation_in (InputLayer)      (None, 1)            0                                            \n",
      "__________________________________________________________________________________________________\n",
      "relationship_in (InputLayer)    (None, 1)            0                                            \n",
      "__________________________________________________________________________________________________\n",
      "race_in (InputLayer)            (None, 1)            0                                            \n",
      "__________________________________________________________________________________________________\n",
      "sex_in (InputLayer)             (None, 1)            0                                            \n",
      "__________________________________________________________________________________________________\n",
      "native-country_in (InputLayer)  (None, 1)            0                                            \n",
      "__________________________________________________________________________________________________\n",
      "workclass_emb (Embedding)       (None, 1, 5)         45          workclass_in[0][0]               \n",
      "__________________________________________________________________________________________________\n",
      "marital-status_emb (Embedding)  (None, 1, 4)         28          marital-status_in[0][0]          \n",
      "__________________________________________________________________________________________________\n",
      "occupation_emb (Embedding)      (None, 1, 8)         120         occupation_in[0][0]              \n",
      "__________________________________________________________________________________________________\n",
      "relationship_emb (Embedding)    (None, 1, 3)         18          relationship_in[0][0]            \n",
      "__________________________________________________________________________________________________\n",
      "race_emb (Embedding)            (None, 1, 3)         15          race_in[0][0]                    \n",
      "__________________________________________________________________________________________________\n",
      "sex_emb (Embedding)             (None, 1, 1)         2           sex_in[0][0]                     \n",
      "__________________________________________________________________________________________________\n",
      "native-country_emb (Embedding)  (None, 1, 20)        840         native-country_in[0][0]          \n",
      "__________________________________________________________________________________________________\n",
      "num_vars (InputLayer)           (None, 6)            0                                            \n",
      "__________________________________________________________________________________________________\n",
      "concatenate_9 (Concatenate)     (None, 1, 44)        0           workclass_emb[0][0]              \n",
      "                                                                 marital-status_emb[0][0]         \n",
      "                                                                 occupation_emb[0][0]             \n",
      "                                                                 relationship_emb[0][0]           \n",
      "                                                                 race_emb[0][0]                   \n",
      "                                                                 sex_emb[0][0]                    \n",
      "                                                                 native-country_emb[0][0]         \n",
      "__________________________________________________________________________________________________\n",
      "batch_normalization_9 (BatchNor (None, 6)            24          num_vars[0][0]                   \n",
      "__________________________________________________________________________________________________\n",
      "flatten_5 (Flatten)             (None, 44)           0           concatenate_9[0][0]              \n",
      "__________________________________________________________________________________________________\n",
      "concatenate_10 (Concatenate)    (None, 50)           0           batch_normalization_9[0][0]      \n",
      "                                                                 flatten_5[0][0]                  \n",
      "__________________________________________________________________________________________________\n",
      "dropout_10 (Dropout)            (None, 50)           0           concatenate_10[0][0]             \n",
      "__________________________________________________________________________________________________\n",
      "dense_14 (Dense)                (None, 1000)         51000       dropout_10[0][0]                 \n",
      "__________________________________________________________________________________________________\n",
      "batch_normalization_10 (BatchNo (None, 1000)         4000        dense_14[0][0]                   \n",
      "__________________________________________________________________________________________________\n",
      "dropout_11 (Dropout)            (None, 1000)         0           batch_normalization_10[0][0]     \n",
      "__________________________________________________________________________________________________\n",
      "dense_15 (Dense)                (None, 500)          500500      dropout_11[0][0]                 \n",
      "__________________________________________________________________________________________________\n",
      "batch_normalization_11 (BatchNo (None, 500)          2000        dense_15[0][0]                   \n",
      "__________________________________________________________________________________________________\n",
      "dropout_12 (Dropout)            (None, 500)          0           batch_normalization_11[0][0]     \n",
      "__________________________________________________________________________________________________\n",
      "dense_16 (Dense)                (None, 1)            501         dropout_12[0][0]                 \n",
      "==================================================================================================\n",
      "Total params: 559,093\n",
      "Trainable params: 556,081\n",
      "Non-trainable params: 3,012\n",
      "__________________________________________________________________________________________________\n"
     ]
    }
   ],
   "source": [
    "from keras.models import Model\n",
    "from keras.layers import Embedding, Flatten, Dropout, Dense, Input, BatchNormalization, concatenate\n",
    "from keras.optimizers import Adam\n",
    "\n",
    "bs = 128\n",
    "lr = 0.001\n",
    "\n",
    "# Variables numericas, para normalizar vamos a poner una capa de batch normalization\n",
    "num_in = Input((len(num_vars),), name='num_vars')\n",
    "x1 = BatchNormalization()(num_in)\n",
    "# x1 = Dense(50, activation='relu', kernel_initializer='he_uniform')(x1)\n",
    "\n",
    "# Variables categoricas\n",
    "cat_in = [Input((1,), dtype='int32', name=f'{e}_in') for e in cat_vars]\n",
    "\n",
    "# Embeddings para cada variable categorica\n",
    "x2 = [Embedding(cat_sizes[j], emb_sizes[j], name=f'{j}_emb')(i) for i,j in zip(cat_in, cat_vars)]\n",
    "x2 = concatenate(x2)\n",
    "x2 = Flatten()(x2)\n",
    "# x2 = Dense(50, activation='relu', kernel_initializer='he_uniform')(x2)\n",
    "\n",
    "# Juntamos las variables categoricas y aplicamos dropout\n",
    "x = concatenate([x1, x2])\n",
    "x = Dropout(0.02)(x)\n",
    "\n",
    "# Capas densas\n",
    "layers = [1000, 500]\n",
    "for l in layers:\n",
    "    x = Dense(l, activation='relu', kernel_initializer='he_uniform')(x)\n",
    "    x = BatchNormalization()(x)\n",
    "    x = Dropout(0.2)(x)\n",
    "    \n",
    "# x = Dropout(0.2)(x)\n",
    "x = Dense(1, activation='sigmoid')(x)\n",
    "\n",
    "model = Model(inputs=[num_in]+cat_in, outputs=x)\n",
    "model.compile(Adam(lr), loss='binary_crossentropy', metrics=['accuracy'])\n",
    "model.summary()"
   ]
  },
  {
   "cell_type": "code",
   "execution_count": 22,
   "metadata": {},
   "outputs": [],
   "source": [
    "# Necesitamos poner la data de entrenamiento en el formato correcto\n",
    "# para ser ingresada a la red\n",
    "data_train = [x_train[num_vars]] + np.hsplit(x_train[cat_vars], len(cat_vars))\n",
    "data_val = [x_val[num_vars]] + np.hsplit(x_val[cat_vars], len(cat_vars))"
   ]
  },
  {
   "cell_type": "code",
   "execution_count": 31,
   "metadata": {},
   "outputs": [
    {
     "name": "stdout",
     "output_type": "stream",
     "text": [
      "Train on 26048 samples, validate on 6513 samples\n",
      "Epoch 1/15\n",
      "26048/26048 [==============================] - 6s 222us/step - loss: 0.4374 - acc: 0.8124 - val_loss: 0.3503 - val_acc: 0.8388\n",
      "Epoch 2/15\n",
      "26048/26048 [==============================] - 4s 166us/step - loss: 0.3526 - acc: 0.8366 - val_loss: 0.3176 - val_acc: 0.8604\n",
      "Epoch 3/15\n",
      "26048/26048 [==============================] - 4s 165us/step - loss: 0.3392 - acc: 0.8421 - val_loss: 0.3209 - val_acc: 0.8577\n",
      "Epoch 4/15\n",
      "26048/26048 [==============================] - 4s 166us/step - loss: 0.3296 - acc: 0.8454 - val_loss: 0.3131 - val_acc: 0.8574\n",
      "Epoch 5/15\n",
      "26048/26048 [==============================] - 4s 166us/step - loss: 0.3272 - acc: 0.8464 - val_loss: 0.3100 - val_acc: 0.8584\n",
      "Epoch 6/15\n",
      "26048/26048 [==============================] - 4s 168us/step - loss: 0.3233 - acc: 0.8471 - val_loss: 0.3146 - val_acc: 0.8575\n",
      "Epoch 7/15\n",
      "26048/26048 [==============================] - 4s 166us/step - loss: 0.3227 - acc: 0.8502 - val_loss: 0.3141 - val_acc: 0.8558\n",
      "Epoch 8/15\n",
      "26048/26048 [==============================] - 4s 168us/step - loss: 0.3193 - acc: 0.8519 - val_loss: 0.3065 - val_acc: 0.8627\n",
      "Epoch 9/15\n",
      "26048/26048 [==============================] - 4s 173us/step - loss: 0.3141 - acc: 0.8535 - val_loss: 0.3157 - val_acc: 0.8558\n",
      "Epoch 10/15\n",
      "26048/26048 [==============================] - 5s 173us/step - loss: 0.3150 - acc: 0.8527 - val_loss: 0.3166 - val_acc: 0.8537\n",
      "Epoch 11/15\n",
      "26048/26048 [==============================] - 4s 166us/step - loss: 0.3158 - acc: 0.8518 - val_loss: 0.3090 - val_acc: 0.8623\n",
      "Epoch 12/15\n",
      "26048/26048 [==============================] - 4s 172us/step - loss: 0.3149 - acc: 0.8547 - val_loss: 0.3079 - val_acc: 0.8624\n",
      "Epoch 13/15\n",
      "26048/26048 [==============================] - 4s 165us/step - loss: 0.3098 - acc: 0.8577 - val_loss: 0.3133 - val_acc: 0.8571\n",
      "Epoch 14/15\n",
      "26048/26048 [==============================] - 5s 173us/step - loss: 0.3115 - acc: 0.8545 - val_loss: 0.3151 - val_acc: 0.8572\n",
      "Epoch 15/15\n",
      "26048/26048 [==============================] - 4s 169us/step - loss: 0.3090 - acc: 0.8552 - val_loss: 0.3105 - val_acc: 0.8587\n"
     ]
    }
   ],
   "source": [
    "log = model.fit(data_train, y_train, bs, epochs=15, validation_data=[data_val, y_val])"
   ]
  },
  {
   "cell_type": "code",
   "execution_count": 25,
   "metadata": {},
   "outputs": [],
   "source": [
    "def show_results(log):\n",
    "    trn_loss = log.history['loss']\n",
    "    val_loss = log.history['val_loss']\n",
    "    trn_acc = log.history['acc']\n",
    "    val_acc = log.history['val_acc']\n",
    "    \n",
    "    fig, axes = plt.subplots(1, 2, figsize=(14,4))\n",
    "    ax1, ax2 = axes\n",
    "    ax1.plot(trn_loss, label='train')\n",
    "    ax1.plot(val_loss, label='validation')\n",
    "    ax1.set_xlabel('epoch'); ax1.set_ylabel('loss')\n",
    "    ax2.plot(trn_acc, label='train')\n",
    "    ax2.plot(val_acc, label='validation')\n",
    "    ax2.set_xlabel('epoch'); ax2.set_ylabel('accuracy')\n",
    "    for ax,title in zip(axes, ['Train', 'Accuracy']):\n",
    "        ax.set_title(title, size=14)\n",
    "        ax.legend()\n"
   ]
  },
  {
   "cell_type": "code",
   "execution_count": 32,
   "metadata": {},
   "outputs": [
    {
     "data": {
      "image/png": "[encoded data removed]",
      "text/plain": [
       "<Figure size 1008x288 with 2 Axes>"
      ]
     },
     "metadata": {
      "needs_background": "light"
     },
     "output_type": "display_data"
    }
   ],
   "source": [
    "show_results(log)"
   ]
  },
  {
   "cell_type": "code",
   "execution_count": null,
   "metadata": {},
   "outputs": [],
   "source": []
  },
  {
   "cell_type": "code",
   "execution_count": null,
   "metadata": {},
   "outputs": [],
   "source": []
  }
 ],
 "metadata": {
  "kernelspec": {
   "display_name": "Python 3",
   "language": "python",
   "name": "python3"
  },
  "language_info": {
   "codemirror_mode": {
    "name": "ipython",
    "version": 3
   },
   "file_extension": ".py",
   "mimetype": "text/x-python",
   "name": "python",
   "nbconvert_exporter": "python",
   "pygments_lexer": "ipython3",
   "version": "3.6.6"
  },
  "toc": {
   "base_numbering": 1,
   "nav_menu": {},
   "number_sections": true,
   "sideBar": true,
   "skip_h1_title": false,
   "title_cell": "Table of Contents",
   "title_sidebar": "Contents",
   "toc_cell": false,
   "toc_position": {
    "height": "calc(100% - 180px)",
    "left": "10px",
    "top": "150px",
    "width": "300.4px"
   },
   "toc_section_display": true,
   "toc_window_display": false
  }
 },
 "nbformat": 4,
 "nbformat_minor": 2
}
